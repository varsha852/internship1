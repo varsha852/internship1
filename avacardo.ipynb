{
 "cells": [
  {
   "cell_type": "markdown",
   "id": "9ae681a2",
   "metadata": {},
   "source": [
    "Reference:\n",
    "Forecasting: Principles and Practice by Rob J Hyndman and George Athanasopoulos\n",
    "\n",
    "Terms to Know:\n",
    "Explanatory model: Is a model that adds variables into our model not only based on past historical prices (in this case Avocados prices), but uses other variables to make accurate predictions.\n",
    "\n",
    "Time Series Model: is a model that only uses past information (in this case past avocado prices) to make accurate predictions.\n",
    "Steps for our Forecasting Project:\n",
    "\n",
    "Determine what is the problem: In this case we want to have accurate forecast of Avocado prices.\n",
    "Gathering Information: Understand what was the process that was used to gather the information and if the information is sufficient to have effective predictive models.\n",
    "\n",
    "Implementing Exploratory Analysis: Determine if there are any sort of patterns in our data before going into building the models.\n",
    "\n",
    "Choosing predictive models: This is the phase were we decide which model is the most appropiate to make our forecasting most effective.\n",
    "\n",
    "Testing our model: Analyze if our model is effective enough to make effective predictions."
   ]
  },
  {
   "cell_type": "markdown",
   "id": "cc8bf0d6",
   "metadata": {},
   "source": [
    "Exploratory Data Analysis:\n",
    "In this phase of the project we will concentrate mainly on two aspects of the time series forecasting analysis hich consists of:\n",
    "\n",
    "Seasonal Patterns: In this section we will focus on constant patterns that occur frequently from year to year and from month to month in both types of avocados conventional and organic.\n",
    "\n",
    "Cyclical Patterns: This section will require me to search deeper into what factors could have affected the price of avocados during those years (low supply, storms etc.) and will be interesting to see if any of those factors contributed to any significant price changes."
   ]
  },
  {
   "cell_type": "code",
   "execution_count": 1,
   "id": "e4f8e0eb",
   "metadata": {},
   "outputs": [],
   "source": [
    "import numpy as np # linear algebra\n",
    "import pandas as pd"
   ]
  },
  {
   "cell_type": "code",
   "execution_count": 2,
   "id": "7f2b3cc4",
   "metadata": {},
   "outputs": [],
   "source": [
    "df = pd.read_csv('https://raw.githubusercontent.com/dsrscientist/Data-Science-ML-Capstone-Projects/4b4552acae92b71b390feed74695315b90151935/avocado.csv')"
   ]
  },
  {
   "cell_type": "code",
   "execution_count": 3,
   "id": "27d10927",
   "metadata": {},
   "outputs": [
    {
     "data": {
      "text/html": [
       "<div>\n",
       "<style scoped>\n",
       "    .dataframe tbody tr th:only-of-type {\n",
       "        vertical-align: middle;\n",
       "    }\n",
       "\n",
       "    .dataframe tbody tr th {\n",
       "        vertical-align: top;\n",
       "    }\n",
       "\n",
       "    .dataframe thead th {\n",
       "        text-align: right;\n",
       "    }\n",
       "</style>\n",
       "<table border=\"1\" class=\"dataframe\">\n",
       "  <thead>\n",
       "    <tr style=\"text-align: right;\">\n",
       "      <th></th>\n",
       "      <th>Unnamed: 0</th>\n",
       "      <th>Date</th>\n",
       "      <th>AveragePrice</th>\n",
       "      <th>Total Volume</th>\n",
       "      <th>4046</th>\n",
       "      <th>4225</th>\n",
       "      <th>4770</th>\n",
       "      <th>Total Bags</th>\n",
       "      <th>Small Bags</th>\n",
       "      <th>Large Bags</th>\n",
       "      <th>XLarge Bags</th>\n",
       "      <th>type</th>\n",
       "      <th>year</th>\n",
       "      <th>region</th>\n",
       "    </tr>\n",
       "  </thead>\n",
       "  <tbody>\n",
       "    <tr>\n",
       "      <th>0</th>\n",
       "      <td>0.0</td>\n",
       "      <td>27-12-2015</td>\n",
       "      <td>1.33</td>\n",
       "      <td>64236.62</td>\n",
       "      <td>1036.74</td>\n",
       "      <td>54454.85</td>\n",
       "      <td>48.16</td>\n",
       "      <td>8696.87</td>\n",
       "      <td>8603.62</td>\n",
       "      <td>93.25</td>\n",
       "      <td>0.0</td>\n",
       "      <td>conventional</td>\n",
       "      <td>2015.0</td>\n",
       "      <td>Albany</td>\n",
       "    </tr>\n",
       "    <tr>\n",
       "      <th>1</th>\n",
       "      <td>1.0</td>\n",
       "      <td>20-12-2015</td>\n",
       "      <td>1.35</td>\n",
       "      <td>54876.98</td>\n",
       "      <td>674.28</td>\n",
       "      <td>44638.81</td>\n",
       "      <td>58.33</td>\n",
       "      <td>9505.56</td>\n",
       "      <td>9408.07</td>\n",
       "      <td>97.49</td>\n",
       "      <td>0.0</td>\n",
       "      <td>conventional</td>\n",
       "      <td>2015.0</td>\n",
       "      <td>Albany</td>\n",
       "    </tr>\n",
       "    <tr>\n",
       "      <th>2</th>\n",
       "      <td>2.0</td>\n",
       "      <td>13-12-2015</td>\n",
       "      <td>0.93</td>\n",
       "      <td>118220.22</td>\n",
       "      <td>794.70</td>\n",
       "      <td>109149.67</td>\n",
       "      <td>130.50</td>\n",
       "      <td>8145.35</td>\n",
       "      <td>8042.21</td>\n",
       "      <td>103.14</td>\n",
       "      <td>0.0</td>\n",
       "      <td>conventional</td>\n",
       "      <td>2015.0</td>\n",
       "      <td>Albany</td>\n",
       "    </tr>\n",
       "    <tr>\n",
       "      <th>3</th>\n",
       "      <td>3.0</td>\n",
       "      <td>06-12-2015</td>\n",
       "      <td>1.08</td>\n",
       "      <td>78992.15</td>\n",
       "      <td>1132.00</td>\n",
       "      <td>71976.41</td>\n",
       "      <td>72.58</td>\n",
       "      <td>5811.16</td>\n",
       "      <td>5677.40</td>\n",
       "      <td>133.76</td>\n",
       "      <td>0.0</td>\n",
       "      <td>conventional</td>\n",
       "      <td>2015.0</td>\n",
       "      <td>Albany</td>\n",
       "    </tr>\n",
       "    <tr>\n",
       "      <th>4</th>\n",
       "      <td>4.0</td>\n",
       "      <td>29-11-2015</td>\n",
       "      <td>1.28</td>\n",
       "      <td>51039.60</td>\n",
       "      <td>941.48</td>\n",
       "      <td>43838.39</td>\n",
       "      <td>75.78</td>\n",
       "      <td>6183.95</td>\n",
       "      <td>5986.26</td>\n",
       "      <td>197.69</td>\n",
       "      <td>0.0</td>\n",
       "      <td>conventional</td>\n",
       "      <td>2015.0</td>\n",
       "      <td>Albany</td>\n",
       "    </tr>\n",
       "    <tr>\n",
       "      <th>...</th>\n",
       "      <td>...</td>\n",
       "      <td>...</td>\n",
       "      <td>...</td>\n",
       "      <td>...</td>\n",
       "      <td>...</td>\n",
       "      <td>...</td>\n",
       "      <td>...</td>\n",
       "      <td>...</td>\n",
       "      <td>...</td>\n",
       "      <td>...</td>\n",
       "      <td>...</td>\n",
       "      <td>...</td>\n",
       "      <td>...</td>\n",
       "      <td>...</td>\n",
       "    </tr>\n",
       "    <tr>\n",
       "      <th>16463</th>\n",
       "      <td>NaN</td>\n",
       "      <td>NaN</td>\n",
       "      <td>NaN</td>\n",
       "      <td>NaN</td>\n",
       "      <td>NaN</td>\n",
       "      <td>NaN</td>\n",
       "      <td>NaN</td>\n",
       "      <td>NaN</td>\n",
       "      <td>NaN</td>\n",
       "      <td>NaN</td>\n",
       "      <td>NaN</td>\n",
       "      <td>NaN</td>\n",
       "      <td>NaN</td>\n",
       "      <td>NaN</td>\n",
       "    </tr>\n",
       "    <tr>\n",
       "      <th>16464</th>\n",
       "      <td>NaN</td>\n",
       "      <td>NaN</td>\n",
       "      <td>NaN</td>\n",
       "      <td>NaN</td>\n",
       "      <td>NaN</td>\n",
       "      <td>NaN</td>\n",
       "      <td>NaN</td>\n",
       "      <td>NaN</td>\n",
       "      <td>NaN</td>\n",
       "      <td>NaN</td>\n",
       "      <td>NaN</td>\n",
       "      <td>NaN</td>\n",
       "      <td>NaN</td>\n",
       "      <td>NaN</td>\n",
       "    </tr>\n",
       "    <tr>\n",
       "      <th>16465</th>\n",
       "      <td>NaN</td>\n",
       "      <td>NaN</td>\n",
       "      <td>NaN</td>\n",
       "      <td>NaN</td>\n",
       "      <td>NaN</td>\n",
       "      <td>NaN</td>\n",
       "      <td>NaN</td>\n",
       "      <td>NaN</td>\n",
       "      <td>NaN</td>\n",
       "      <td>NaN</td>\n",
       "      <td>NaN</td>\n",
       "      <td>NaN</td>\n",
       "      <td>NaN</td>\n",
       "      <td>NaN</td>\n",
       "    </tr>\n",
       "    <tr>\n",
       "      <th>16466</th>\n",
       "      <td>NaN</td>\n",
       "      <td>NaN</td>\n",
       "      <td>NaN</td>\n",
       "      <td>NaN</td>\n",
       "      <td>NaN</td>\n",
       "      <td>NaN</td>\n",
       "      <td>NaN</td>\n",
       "      <td>NaN</td>\n",
       "      <td>NaN</td>\n",
       "      <td>NaN</td>\n",
       "      <td>NaN</td>\n",
       "      <td>NaN</td>\n",
       "      <td>NaN</td>\n",
       "      <td>NaN</td>\n",
       "    </tr>\n",
       "    <tr>\n",
       "      <th>16467</th>\n",
       "      <td>NaN</td>\n",
       "      <td>NaN</td>\n",
       "      <td>NaN</td>\n",
       "      <td>NaN</td>\n",
       "      <td>NaN</td>\n",
       "      <td>NaN</td>\n",
       "      <td>NaN</td>\n",
       "      <td>NaN</td>\n",
       "      <td>NaN</td>\n",
       "      <td>NaN</td>\n",
       "      <td>NaN</td>\n",
       "      <td>NaN</td>\n",
       "      <td>NaN</td>\n",
       "      <td>NaN</td>\n",
       "    </tr>\n",
       "  </tbody>\n",
       "</table>\n",
       "<p>16468 rows × 14 columns</p>\n",
       "</div>"
      ],
      "text/plain": [
       "       Unnamed: 0        Date  AveragePrice  Total Volume     4046       4225  \\\n",
       "0             0.0  27-12-2015          1.33      64236.62  1036.74   54454.85   \n",
       "1             1.0  20-12-2015          1.35      54876.98   674.28   44638.81   \n",
       "2             2.0  13-12-2015          0.93     118220.22   794.70  109149.67   \n",
       "3             3.0  06-12-2015          1.08      78992.15  1132.00   71976.41   \n",
       "4             4.0  29-11-2015          1.28      51039.60   941.48   43838.39   \n",
       "...           ...         ...           ...           ...      ...        ...   \n",
       "16463         NaN         NaN           NaN           NaN      NaN        NaN   \n",
       "16464         NaN         NaN           NaN           NaN      NaN        NaN   \n",
       "16465         NaN         NaN           NaN           NaN      NaN        NaN   \n",
       "16466         NaN         NaN           NaN           NaN      NaN        NaN   \n",
       "16467         NaN         NaN           NaN           NaN      NaN        NaN   \n",
       "\n",
       "         4770  Total Bags  Small Bags  Large Bags  XLarge Bags          type  \\\n",
       "0       48.16     8696.87     8603.62       93.25          0.0  conventional   \n",
       "1       58.33     9505.56     9408.07       97.49          0.0  conventional   \n",
       "2      130.50     8145.35     8042.21      103.14          0.0  conventional   \n",
       "3       72.58     5811.16     5677.40      133.76          0.0  conventional   \n",
       "4       75.78     6183.95     5986.26      197.69          0.0  conventional   \n",
       "...       ...         ...         ...         ...          ...           ...   \n",
       "16463     NaN         NaN         NaN         NaN          NaN           NaN   \n",
       "16464     NaN         NaN         NaN         NaN          NaN           NaN   \n",
       "16465     NaN         NaN         NaN         NaN          NaN           NaN   \n",
       "16466     NaN         NaN         NaN         NaN          NaN           NaN   \n",
       "16467     NaN         NaN         NaN         NaN          NaN           NaN   \n",
       "\n",
       "         year  region  \n",
       "0      2015.0  Albany  \n",
       "1      2015.0  Albany  \n",
       "2      2015.0  Albany  \n",
       "3      2015.0  Albany  \n",
       "4      2015.0  Albany  \n",
       "...       ...     ...  \n",
       "16463     NaN     NaN  \n",
       "16464     NaN     NaN  \n",
       "16465     NaN     NaN  \n",
       "16466     NaN     NaN  \n",
       "16467     NaN     NaN  \n",
       "\n",
       "[16468 rows x 14 columns]"
      ]
     },
     "execution_count": 3,
     "metadata": {},
     "output_type": "execute_result"
    }
   ],
   "source": [
    "df"
   ]
  },
  {
   "cell_type": "code",
   "execution_count": 4,
   "id": "18388e91",
   "metadata": {},
   "outputs": [],
   "source": [
    "df = df.drop('Unnamed: 0', axis = 1)"
   ]
  },
  {
   "cell_type": "code",
   "execution_count": 5,
   "id": "e24d7455",
   "metadata": {},
   "outputs": [
    {
     "data": {
      "text/plain": [
       "1517"
      ]
     },
     "execution_count": 5,
     "metadata": {},
     "output_type": "execute_result"
    }
   ],
   "source": [
    "df.Date.count()"
   ]
  },
  {
   "cell_type": "code",
   "execution_count": 6,
   "id": "77f088f9",
   "metadata": {},
   "outputs": [
    {
     "data": {
      "text/plain": [
       "count    1517.000000\n",
       "mean        1.074990\n",
       "std         0.188891\n",
       "min         0.490000\n",
       "25%         0.980000\n",
       "50%         1.080000\n",
       "75%         1.190000\n",
       "max         1.680000\n",
       "Name: AveragePrice, dtype: float64"
      ]
     },
     "execution_count": 6,
     "metadata": {},
     "output_type": "execute_result"
    }
   ],
   "source": [
    "df.AveragePrice.describe()\n"
   ]
  },
  {
   "cell_type": "code",
   "execution_count": 7,
   "id": "719191b3",
   "metadata": {},
   "outputs": [
    {
     "data": {
      "text/plain": [
       "<AxesSubplot:>"
      ]
     },
     "execution_count": 7,
     "metadata": {},
     "output_type": "execute_result"
    },
    {
     "data": {
      "image/png": "[encoded data removed]",
      "text/plain": [
       "<Figure size 432x288 with 1 Axes>"
      ]
     },
     "metadata": {
      "needs_background": "light"
     },
     "output_type": "display_data"
    }
   ],
   "source": [
    "df.AveragePrice.hist()\n"
   ]
  },
  {
   "cell_type": "code",
   "execution_count": 8,
   "id": "5c6fb478",
   "metadata": {},
   "outputs": [
    {
     "data": {
      "text/plain": [
       "count    1.517000e+03\n",
       "mean     1.601879e+06\n",
       "std      4.433143e+06\n",
       "min      3.875074e+04\n",
       "25%      1.474700e+05\n",
       "50%      4.027919e+05\n",
       "75%      9.819751e+05\n",
       "max      4.465546e+07\n",
       "Name: Total Volume, dtype: float64"
      ]
     },
     "execution_count": 8,
     "metadata": {},
     "output_type": "execute_result"
    }
   ],
   "source": [
    "df['Total Volume'].describe()\n"
   ]
  },
  {
   "cell_type": "code",
   "execution_count": 9,
   "id": "e6b7419f",
   "metadata": {},
   "outputs": [
    {
     "data": {
      "text/plain": [
       "<AxesSubplot:>"
      ]
     },
     "execution_count": 9,
     "metadata": {},
     "output_type": "execute_result"
    },
    {
     "data": {
      "image/png": "[encoded data removed]",
      "text/plain": [
       "<Figure size 432x288 with 1 Axes>"
      ]
     },
     "metadata": {
      "needs_background": "light"
     },
     "output_type": "display_data"
    }
   ],
   "source": [
    "df['Total Volume'].hist()\n"
   ]
  },
  {
   "cell_type": "code",
   "execution_count": 10,
   "id": "e330e480",
   "metadata": {},
   "outputs": [
    {
     "data": {
      "text/plain": [
       "count    1.517000e+03\n",
       "mean     6.464387e+05\n",
       "std      1.947614e+06\n",
       "min      4.677200e+02\n",
       "25%      2.040034e+04\n",
       "50%      8.175117e+04\n",
       "75%      3.775785e+05\n",
       "max      1.893304e+07\n",
       "Name: 4046, dtype: float64"
      ]
     },
     "execution_count": 10,
     "metadata": {},
     "output_type": "execute_result"
    }
   ],
   "source": [
    "df['4046'].describe()\n"
   ]
  },
  {
   "cell_type": "code",
   "execution_count": 11,
   "id": "a9c1d7a6",
   "metadata": {},
   "outputs": [
    {
     "data": {
      "text/plain": [
       "count      1517.000000\n",
       "mean       2181.771074\n",
       "std        7455.712144\n",
       "min           0.000000\n",
       "25%           0.000000\n",
       "50%           0.000000\n",
       "75%         401.480000\n",
       "max      108072.790000\n",
       "Name: XLarge Bags, dtype: float64"
      ]
     },
     "execution_count": 11,
     "metadata": {},
     "output_type": "execute_result"
    }
   ],
   "source": [
    "df['XLarge Bags'].describe()\n"
   ]
  },
  {
   "cell_type": "code",
   "execution_count": 12,
   "id": "091e66e8",
   "metadata": {},
   "outputs": [
    {
     "data": {
      "text/plain": [
       "<AxesSubplot:>"
      ]
     },
     "execution_count": 12,
     "metadata": {},
     "output_type": "execute_result"
    },
    {
     "data": {
      "image/png": "[encoded data removed]",
      "text/plain": [
       "<Figure size 432x288 with 1 Axes>"
      ]
     },
     "metadata": {
      "needs_background": "light"
     },
     "output_type": "display_data"
    }
   ],
   "source": [
    "df['XLarge Bags'].hist()\n"
   ]
  },
  {
   "cell_type": "code",
   "execution_count": 13,
   "id": "3ab2781a",
   "metadata": {},
   "outputs": [
    {
     "data": {
      "text/plain": [
       "conventional    1517\n",
       "Name: type, dtype: int64"
      ]
     },
     "execution_count": 13,
     "metadata": {},
     "output_type": "execute_result"
    }
   ],
   "source": [
    "df.type.value_counts()\n"
   ]
  },
  {
   "cell_type": "code",
   "execution_count": 14,
   "id": "79a2eca9",
   "metadata": {},
   "outputs": [
    {
     "data": {
      "text/plain": [
       "California             76\n",
       "Albany                 67\n",
       "BaltimoreWashington    65\n",
       "Boise                  65\n",
       "Boston                 62\n",
       "Atlanta                54\n",
       "PhoenixTucson          52\n",
       "BuffaloRochester       51\n",
       "Spokane                49\n",
       "Columbus               47\n",
       "NewYork                44\n",
       "Jacksonville           41\n",
       "Detroit                40\n",
       "SouthCentral           39\n",
       "SanDiego               38\n",
       "West                   36\n",
       "Tampa                  34\n",
       "Louisville             34\n",
       "Charlotte              31\n",
       "Portland               30\n",
       "Houston                29\n",
       "NorthernNewEngland     29\n",
       "WestTexNewMexico       27\n",
       "Nashville              25\n",
       "TotalUS                25\n",
       "Denver                 24\n",
       "SouthCarolina          24\n",
       "Chicago                23\n",
       "GrandRapids            23\n",
       "Pittsburgh             22\n",
       "Orlando                21\n",
       "RichmondNorfolk        21\n",
       "Syracuse               19\n",
       "HarrisburgScranton     19\n",
       "Midsouth               18\n",
       "GreatLakes             18\n",
       "DallasFtWorth          17\n",
       "MiamiFtLauderdale      17\n",
       "Roanoke                17\n",
       "RaleighGreensboro      16\n",
       "StLouis                16\n",
       "Indianapolis           16\n",
       "SanFrancisco           15\n",
       "HartfordSpringfield    13\n",
       "Philadelphia           13\n",
       "Plains                 12\n",
       "Northeast              12\n",
       "LasVegas               10\n",
       "Seattle                 9\n",
       "Southeast               9\n",
       "LosAngeles              3\n",
       "Name: region, dtype: int64"
      ]
     },
     "execution_count": 14,
     "metadata": {},
     "output_type": "execute_result"
    }
   ],
   "source": [
    "df.region.value_counts()\n"
   ]
  },
  {
   "cell_type": "code",
   "execution_count": 15,
   "id": "3ebd5c54",
   "metadata": {},
   "outputs": [
    {
     "data": {
      "text/plain": [
       "2015.0    1270\n",
       "2016.0     247\n",
       "Name: year, dtype: int64"
      ]
     },
     "execution_count": 15,
     "metadata": {},
     "output_type": "execute_result"
    }
   ],
   "source": [
    "df.year.value_counts()\n"
   ]
  },
  {
   "cell_type": "code",
   "execution_count": 16,
   "id": "db39c361",
   "metadata": {},
   "outputs": [
    {
     "data": {
      "text/plain": [
       "Index(['Date', 'AveragePrice', 'Total Volume', '4046', '4225', '4770',\n",
       "       'Total Bags', 'Small Bags', 'Large Bags', 'XLarge Bags', 'type', 'year',\n",
       "       'region'],\n",
       "      dtype='object')"
      ]
     },
     "execution_count": 16,
     "metadata": {},
     "output_type": "execute_result"
    }
   ],
   "source": [
    "df.columns\n"
   ]
  },
  {
   "cell_type": "code",
   "execution_count": 17,
   "id": "f1b44da6",
   "metadata": {},
   "outputs": [],
   "source": [
    "df = df.rename(columns = {'Total Volume' : 'totalVolume', '4046' : 'PLU4046', '4225' : 'PLU4225', '4770' : 'PLU4770', 'Total Bags' : 'totalBags', \\\n",
    "          'Small Bags' : 'smallBags', 'Large Bags' : 'largeBags', 'XLarge Bags' : 'xLargeBags', 'Date' : 'date', 'AveragePrice' : 'averagePrice'})"
   ]
  },
  {
   "cell_type": "code",
   "execution_count": 18,
   "id": "307208c9",
   "metadata": {},
   "outputs": [
    {
     "data": {
      "text/html": [
       "<div>\n",
       "<style scoped>\n",
       "    .dataframe tbody tr th:only-of-type {\n",
       "        vertical-align: middle;\n",
       "    }\n",
       "\n",
       "    .dataframe tbody tr th {\n",
       "        vertical-align: top;\n",
       "    }\n",
       "\n",
       "    .dataframe thead th {\n",
       "        text-align: right;\n",
       "    }\n",
       "</style>\n",
       "<table border=\"1\" class=\"dataframe\">\n",
       "  <thead>\n",
       "    <tr style=\"text-align: right;\">\n",
       "      <th></th>\n",
       "      <th>date</th>\n",
       "      <th>averagePrice</th>\n",
       "      <th>totalVolume</th>\n",
       "      <th>PLU4046</th>\n",
       "      <th>PLU4225</th>\n",
       "      <th>PLU4770</th>\n",
       "      <th>totalBags</th>\n",
       "      <th>smallBags</th>\n",
       "      <th>largeBags</th>\n",
       "      <th>xLargeBags</th>\n",
       "      <th>type</th>\n",
       "      <th>year</th>\n",
       "      <th>region</th>\n",
       "    </tr>\n",
       "  </thead>\n",
       "  <tbody>\n",
       "    <tr>\n",
       "      <th>0</th>\n",
       "      <td>27-12-2015</td>\n",
       "      <td>1.33</td>\n",
       "      <td>64236.62</td>\n",
       "      <td>1036.74</td>\n",
       "      <td>54454.85</td>\n",
       "      <td>48.16</td>\n",
       "      <td>8696.87</td>\n",
       "      <td>8603.62</td>\n",
       "      <td>93.25</td>\n",
       "      <td>0.0</td>\n",
       "      <td>conventional</td>\n",
       "      <td>2015.0</td>\n",
       "      <td>Albany</td>\n",
       "    </tr>\n",
       "    <tr>\n",
       "      <th>1</th>\n",
       "      <td>20-12-2015</td>\n",
       "      <td>1.35</td>\n",
       "      <td>54876.98</td>\n",
       "      <td>674.28</td>\n",
       "      <td>44638.81</td>\n",
       "      <td>58.33</td>\n",
       "      <td>9505.56</td>\n",
       "      <td>9408.07</td>\n",
       "      <td>97.49</td>\n",
       "      <td>0.0</td>\n",
       "      <td>conventional</td>\n",
       "      <td>2015.0</td>\n",
       "      <td>Albany</td>\n",
       "    </tr>\n",
       "    <tr>\n",
       "      <th>2</th>\n",
       "      <td>13-12-2015</td>\n",
       "      <td>0.93</td>\n",
       "      <td>118220.22</td>\n",
       "      <td>794.70</td>\n",
       "      <td>109149.67</td>\n",
       "      <td>130.50</td>\n",
       "      <td>8145.35</td>\n",
       "      <td>8042.21</td>\n",
       "      <td>103.14</td>\n",
       "      <td>0.0</td>\n",
       "      <td>conventional</td>\n",
       "      <td>2015.0</td>\n",
       "      <td>Albany</td>\n",
       "    </tr>\n",
       "    <tr>\n",
       "      <th>3</th>\n",
       "      <td>06-12-2015</td>\n",
       "      <td>1.08</td>\n",
       "      <td>78992.15</td>\n",
       "      <td>1132.00</td>\n",
       "      <td>71976.41</td>\n",
       "      <td>72.58</td>\n",
       "      <td>5811.16</td>\n",
       "      <td>5677.40</td>\n",
       "      <td>133.76</td>\n",
       "      <td>0.0</td>\n",
       "      <td>conventional</td>\n",
       "      <td>2015.0</td>\n",
       "      <td>Albany</td>\n",
       "    </tr>\n",
       "    <tr>\n",
       "      <th>4</th>\n",
       "      <td>29-11-2015</td>\n",
       "      <td>1.28</td>\n",
       "      <td>51039.60</td>\n",
       "      <td>941.48</td>\n",
       "      <td>43838.39</td>\n",
       "      <td>75.78</td>\n",
       "      <td>6183.95</td>\n",
       "      <td>5986.26</td>\n",
       "      <td>197.69</td>\n",
       "      <td>0.0</td>\n",
       "      <td>conventional</td>\n",
       "      <td>2015.0</td>\n",
       "      <td>Albany</td>\n",
       "    </tr>\n",
       "  </tbody>\n",
       "</table>\n",
       "</div>"
      ],
      "text/plain": [
       "         date  averagePrice  totalVolume  PLU4046    PLU4225  PLU4770  \\\n",
       "0  27-12-2015          1.33     64236.62  1036.74   54454.85    48.16   \n",
       "1  20-12-2015          1.35     54876.98   674.28   44638.81    58.33   \n",
       "2  13-12-2015          0.93    118220.22   794.70  109149.67   130.50   \n",
       "3  06-12-2015          1.08     78992.15  1132.00   71976.41    72.58   \n",
       "4  29-11-2015          1.28     51039.60   941.48   43838.39    75.78   \n",
       "\n",
       "   totalBags  smallBags  largeBags  xLargeBags          type    year  region  \n",
       "0    8696.87    8603.62      93.25         0.0  conventional  2015.0  Albany  \n",
       "1    9505.56    9408.07      97.49         0.0  conventional  2015.0  Albany  \n",
       "2    8145.35    8042.21     103.14         0.0  conventional  2015.0  Albany  \n",
       "3    5811.16    5677.40     133.76         0.0  conventional  2015.0  Albany  \n",
       "4    6183.95    5986.26     197.69         0.0  conventional  2015.0  Albany  "
      ]
     },
     "execution_count": 18,
     "metadata": {},
     "output_type": "execute_result"
    }
   ],
   "source": [
    "df.head()\n"
   ]
  },
  {
   "cell_type": "code",
   "execution_count": 19,
   "id": "19511131",
   "metadata": {},
   "outputs": [],
   "source": [
    "from sklearn.preprocessing import MinMaxScaler\n"
   ]
  },
  {
   "cell_type": "code",
   "execution_count": 20,
   "id": "42febfc3",
   "metadata": {},
   "outputs": [],
   "source": [
    "scalerMinMax = MinMaxScaler()\n"
   ]
  },
  {
   "cell_type": "code",
   "execution_count": 21,
   "id": "b50bcff6",
   "metadata": {},
   "outputs": [
    {
     "data": {
      "text/plain": [
       "Index(['totalVolume', 'PLU4046', 'PLU4225', 'PLU4770', 'totalBags',\n",
       "       'smallBags', 'largeBags', 'xLargeBags'],\n",
       "      dtype='object')"
      ]
     },
     "execution_count": 21,
     "metadata": {},
     "output_type": "execute_result"
    }
   ],
   "source": [
    "df.columns[2:10]\n"
   ]
  },
  {
   "cell_type": "code",
   "execution_count": 22,
   "id": "c6828f63",
   "metadata": {},
   "outputs": [
    {
     "data": {
      "text/plain": [
       "MinMaxScaler()"
      ]
     },
     "execution_count": 22,
     "metadata": {},
     "output_type": "execute_result"
    }
   ],
   "source": [
    "     scalerMinMax.fit(df[df.columns[2:10]])\n"
   ]
  },
  {
   "cell_type": "code",
   "execution_count": 23,
   "id": "3d88abab",
   "metadata": {},
   "outputs": [
    {
     "data": {
      "text/plain": [
       "array([-8.68525253e-04, -2.47045167e-05, -9.41070225e-05,  0.00000000e+00,\n",
       "       -4.91871944e-04, -5.62238453e-04,  0.00000000e+00,  0.00000000e+00])"
      ]
     },
     "execution_count": 23,
     "metadata": {},
     "output_type": "execute_result"
    }
   ],
   "source": [
    "scalerMinMax.min_\n"
   ]
  },
  {
   "cell_type": "code",
   "execution_count": 24,
   "id": "336ea811",
   "metadata": {},
   "outputs": [
    {
     "data": {
      "text/plain": [
       "array([2.24131269e-08, 5.28190300e-08, 5.27573748e-08, 7.23842446e-07,\n",
       "       1.48522375e-07, 1.69769777e-07, 8.91999812e-07, 9.25302289e-06])"
      ]
     },
     "execution_count": 24,
     "metadata": {},
     "output_type": "execute_result"
    }
   ],
   "source": [
    "scalerMinMax.scale_\n"
   ]
  },
  {
   "cell_type": "code",
   "execution_count": 25,
   "id": "98634bb1",
   "metadata": {},
   "outputs": [
    {
     "data": {
      "text/plain": [
       "array([38750.74,   467.72,  1783.77,     0.  ,  3311.77,  3311.77,\n",
       "           0.  ,     0.  ])"
      ]
     },
     "execution_count": 25,
     "metadata": {},
     "output_type": "execute_result"
    }
   ],
   "source": [
    "scalerMinMax.data_min_\n"
   ]
  },
  {
   "cell_type": "code",
   "execution_count": 26,
   "id": "5df48b5e",
   "metadata": {},
   "outputs": [
    {
     "data": {
      "text/plain": [
       "array([44655461.51, 18933038.04, 18956479.74,  1381516.11,  6736304.04,\n",
       "        5893641.72,  1121076.47,   108072.79])"
      ]
     },
     "execution_count": 26,
     "metadata": {},
     "output_type": "execute_result"
    }
   ],
   "source": [
    "scalerMinMax.data_max_\n"
   ]
  },
  {
   "cell_type": "code",
   "execution_count": 27,
   "id": "f73a6b11",
   "metadata": {},
   "outputs": [
    {
     "data": {
      "text/plain": [
       "array([44616710.77, 18932570.32, 18954695.97,  1381516.11,  6732992.27,\n",
       "        5890329.95,  1121076.47,   108072.79])"
      ]
     },
     "execution_count": 27,
     "metadata": {},
     "output_type": "execute_result"
    }
   ],
   "source": [
    "scalerMinMax.data_range_\n"
   ]
  },
  {
   "cell_type": "markdown",
   "id": "1cb06f2b",
   "metadata": {},
   "source": [
    "Relationship between Prices and Total Volume:\n",
    "\n",
    "In this phase we will analyze the impact supply has on the price of avocados as a whole. Normally, there is an inverse relationship between supply and prices. When there is an overproduction of avocados they will have a negative impact on the market price of avocados. Let's see if this is the case for both conventional and organic avocados.\n",
    "Conventional: At the end of 2017 we can see a large drop in prices, at the same time there is an increasing amount of volume of avocados in the market.\n",
    "\n",
    "Organic: Same happens with organic avocados, at the end of 2017 there is a big drop and we can see a huge increase in volume.\n",
    "Volume peaks: Notice how each volume peak is a signal for an upcoming drop in avocado prices."
   ]
  },
  {
   "cell_type": "code",
   "execution_count": 28,
   "id": "4a116711",
   "metadata": {},
   "outputs": [],
   "source": [
    "df[df.columns[2:10]] = scalerMinMax.transform(df[df.columns[2:10]])\n"
   ]
  },
  {
   "cell_type": "code",
   "execution_count": 29,
   "id": "1704bdd3",
   "metadata": {},
   "outputs": [
    {
     "data": {
      "text/html": [
       "<div>\n",
       "<style scoped>\n",
       "    .dataframe tbody tr th:only-of-type {\n",
       "        vertical-align: middle;\n",
       "    }\n",
       "\n",
       "    .dataframe tbody tr th {\n",
       "        vertical-align: top;\n",
       "    }\n",
       "\n",
       "    .dataframe thead th {\n",
       "        text-align: right;\n",
       "    }\n",
       "</style>\n",
       "<table border=\"1\" class=\"dataframe\">\n",
       "  <thead>\n",
       "    <tr style=\"text-align: right;\">\n",
       "      <th></th>\n",
       "      <th>date</th>\n",
       "      <th>averagePrice</th>\n",
       "      <th>totalVolume</th>\n",
       "      <th>PLU4046</th>\n",
       "      <th>PLU4225</th>\n",
       "      <th>PLU4770</th>\n",
       "      <th>totalBags</th>\n",
       "      <th>smallBags</th>\n",
       "      <th>largeBags</th>\n",
       "      <th>xLargeBags</th>\n",
       "      <th>type</th>\n",
       "      <th>year</th>\n",
       "      <th>region</th>\n",
       "    </tr>\n",
       "  </thead>\n",
       "  <tbody>\n",
       "    <tr>\n",
       "      <th>0</th>\n",
       "      <td>27-12-2015</td>\n",
       "      <td>1.33</td>\n",
       "      <td>0.000571</td>\n",
       "      <td>0.000030</td>\n",
       "      <td>0.002779</td>\n",
       "      <td>0.000035</td>\n",
       "      <td>0.000800</td>\n",
       "      <td>0.000898</td>\n",
       "      <td>0.000083</td>\n",
       "      <td>0.0</td>\n",
       "      <td>conventional</td>\n",
       "      <td>2015.0</td>\n",
       "      <td>Albany</td>\n",
       "    </tr>\n",
       "    <tr>\n",
       "      <th>1</th>\n",
       "      <td>20-12-2015</td>\n",
       "      <td>1.35</td>\n",
       "      <td>0.000361</td>\n",
       "      <td>0.000011</td>\n",
       "      <td>0.002261</td>\n",
       "      <td>0.000042</td>\n",
       "      <td>0.000920</td>\n",
       "      <td>0.001035</td>\n",
       "      <td>0.000087</td>\n",
       "      <td>0.0</td>\n",
       "      <td>conventional</td>\n",
       "      <td>2015.0</td>\n",
       "      <td>Albany</td>\n",
       "    </tr>\n",
       "    <tr>\n",
       "      <th>2</th>\n",
       "      <td>13-12-2015</td>\n",
       "      <td>0.93</td>\n",
       "      <td>0.001781</td>\n",
       "      <td>0.000017</td>\n",
       "      <td>0.005664</td>\n",
       "      <td>0.000094</td>\n",
       "      <td>0.000718</td>\n",
       "      <td>0.000803</td>\n",
       "      <td>0.000092</td>\n",
       "      <td>0.0</td>\n",
       "      <td>conventional</td>\n",
       "      <td>2015.0</td>\n",
       "      <td>Albany</td>\n",
       "    </tr>\n",
       "    <tr>\n",
       "      <th>3</th>\n",
       "      <td>06-12-2015</td>\n",
       "      <td>1.08</td>\n",
       "      <td>0.000902</td>\n",
       "      <td>0.000035</td>\n",
       "      <td>0.003703</td>\n",
       "      <td>0.000053</td>\n",
       "      <td>0.000371</td>\n",
       "      <td>0.000402</td>\n",
       "      <td>0.000119</td>\n",
       "      <td>0.0</td>\n",
       "      <td>conventional</td>\n",
       "      <td>2015.0</td>\n",
       "      <td>Albany</td>\n",
       "    </tr>\n",
       "    <tr>\n",
       "      <th>4</th>\n",
       "      <td>29-11-2015</td>\n",
       "      <td>1.28</td>\n",
       "      <td>0.000275</td>\n",
       "      <td>0.000025</td>\n",
       "      <td>0.002219</td>\n",
       "      <td>0.000055</td>\n",
       "      <td>0.000427</td>\n",
       "      <td>0.000454</td>\n",
       "      <td>0.000176</td>\n",
       "      <td>0.0</td>\n",
       "      <td>conventional</td>\n",
       "      <td>2015.0</td>\n",
       "      <td>Albany</td>\n",
       "    </tr>\n",
       "  </tbody>\n",
       "</table>\n",
       "</div>"
      ],
      "text/plain": [
       "         date  averagePrice  totalVolume   PLU4046   PLU4225   PLU4770  \\\n",
       "0  27-12-2015          1.33     0.000571  0.000030  0.002779  0.000035   \n",
       "1  20-12-2015          1.35     0.000361  0.000011  0.002261  0.000042   \n",
       "2  13-12-2015          0.93     0.001781  0.000017  0.005664  0.000094   \n",
       "3  06-12-2015          1.08     0.000902  0.000035  0.003703  0.000053   \n",
       "4  29-11-2015          1.28     0.000275  0.000025  0.002219  0.000055   \n",
       "\n",
       "   totalBags  smallBags  largeBags  xLargeBags          type    year  region  \n",
       "0   0.000800   0.000898   0.000083         0.0  conventional  2015.0  Albany  \n",
       "1   0.000920   0.001035   0.000087         0.0  conventional  2015.0  Albany  \n",
       "2   0.000718   0.000803   0.000092         0.0  conventional  2015.0  Albany  \n",
       "3   0.000371   0.000402   0.000119         0.0  conventional  2015.0  Albany  \n",
       "4   0.000427   0.000454   0.000176         0.0  conventional  2015.0  Albany  "
      ]
     },
     "execution_count": 29,
     "metadata": {},
     "output_type": "execute_result"
    }
   ],
   "source": [
    "df.head()\n"
   ]
  },
  {
   "cell_type": "code",
   "execution_count": 30,
   "id": "5c66b784",
   "metadata": {},
   "outputs": [],
   "source": [
    "df['type'] = df.type.astype('category')\n"
   ]
  },
  {
   "cell_type": "code",
   "execution_count": 31,
   "id": "0343fbe7",
   "metadata": {},
   "outputs": [],
   "source": [
    "df = df.drop('year', axis = 1)\n"
   ]
  },
  {
   "cell_type": "code",
   "execution_count": 32,
   "id": "4d12ab6b",
   "metadata": {},
   "outputs": [
    {
     "data": {
      "text/plain": [
       "Index(['conventional'], dtype='object')"
      ]
     },
     "execution_count": 32,
     "metadata": {},
     "output_type": "execute_result"
    }
   ],
   "source": [
    "df['type'].cat.categories\n"
   ]
  },
  {
   "cell_type": "code",
   "execution_count": 33,
   "id": "e7a993d3",
   "metadata": {},
   "outputs": [],
   "source": [
    "df['type'] = df.type.cat.codes\n"
   ]
  },
  {
   "cell_type": "code",
   "execution_count": 34,
   "id": "e1d9f1f9",
   "metadata": {},
   "outputs": [],
   "source": [
    "df['region'] = df.region.astype('category')\n"
   ]
  },
  {
   "cell_type": "code",
   "execution_count": 35,
   "id": "d2ef5684",
   "metadata": {},
   "outputs": [
    {
     "data": {
      "text/plain": [
       "Index(['Albany', 'Atlanta', 'BaltimoreWashington', 'Boise', 'Boston',\n",
       "       'BuffaloRochester', 'California', 'Charlotte', 'Chicago', 'Columbus',\n",
       "       'DallasFtWorth', 'Denver', 'Detroit', 'GrandRapids', 'GreatLakes',\n",
       "       'HarrisburgScranton', 'HartfordSpringfield', 'Houston', 'Indianapolis',\n",
       "       'Jacksonville', 'LasVegas', 'LosAngeles', 'Louisville',\n",
       "       'MiamiFtLauderdale', 'Midsouth', 'Nashville', 'NewYork', 'Northeast',\n",
       "       'NorthernNewEngland', 'Orlando', 'Philadelphia', 'PhoenixTucson',\n",
       "       'Pittsburgh', 'Plains', 'Portland', 'RaleighGreensboro',\n",
       "       'RichmondNorfolk', 'Roanoke', 'SanDiego', 'SanFrancisco', 'Seattle',\n",
       "       'SouthCarolina', 'SouthCentral', 'Southeast', 'Spokane', 'StLouis',\n",
       "       'Syracuse', 'Tampa', 'TotalUS', 'West', 'WestTexNewMexico'],\n",
       "      dtype='object')"
      ]
     },
     "execution_count": 35,
     "metadata": {},
     "output_type": "execute_result"
    }
   ],
   "source": [
    "df.region.cat.categories\n"
   ]
  },
  {
   "cell_type": "code",
   "execution_count": 36,
   "id": "21202647",
   "metadata": {},
   "outputs": [],
   "source": [
    "df['region'] = df.region.cat.codes\n"
   ]
  },
  {
   "cell_type": "code",
   "execution_count": 37,
   "id": "82d52593",
   "metadata": {},
   "outputs": [],
   "source": [
    "df['date'] = pd.to_datetime(df.date)\n"
   ]
  },
  {
   "cell_type": "code",
   "execution_count": 38,
   "id": "ce27c727",
   "metadata": {},
   "outputs": [
    {
     "data": {
      "text/plain": [
       "date            datetime64[ns]\n",
       "averagePrice           float64\n",
       "totalVolume            float64\n",
       "PLU4046                float64\n",
       "PLU4225                float64\n",
       "PLU4770                float64\n",
       "totalBags              float64\n",
       "smallBags              float64\n",
       "largeBags              float64\n",
       "xLargeBags             float64\n",
       "type                      int8\n",
       "region                    int8\n",
       "dtype: object"
      ]
     },
     "execution_count": 38,
     "metadata": {},
     "output_type": "execute_result"
    }
   ],
   "source": [
    "df.dtypes\n"
   ]
  },
  {
   "cell_type": "code",
   "execution_count": 39,
   "id": "e9f0c9ac",
   "metadata": {},
   "outputs": [
    {
     "data": {
      "text/plain": [
       "Timestamp('2015-01-02 00:00:00')"
      ]
     },
     "execution_count": 39,
     "metadata": {},
     "output_type": "execute_result"
    }
   ],
   "source": [
    "df.date.min()\n"
   ]
  },
  {
   "cell_type": "code",
   "execution_count": 40,
   "id": "a2140cd3",
   "metadata": {},
   "outputs": [
    {
     "data": {
      "text/plain": [
       "Timestamp('2016-12-25 00:00:00')"
      ]
     },
     "execution_count": 40,
     "metadata": {},
     "output_type": "execute_result"
    }
   ],
   "source": [
    "df.date.max()\n"
   ]
  },
  {
   "cell_type": "code",
   "execution_count": 41,
   "id": "9df8e201",
   "metadata": {},
   "outputs": [
    {
     "data": {
      "text/plain": [
       "1517"
      ]
     },
     "execution_count": 41,
     "metadata": {},
     "output_type": "execute_result"
    }
   ],
   "source": [
    "df.date.count()\n"
   ]
  },
  {
   "cell_type": "code",
   "execution_count": 42,
   "id": "aed8d9cb",
   "metadata": {},
   "outputs": [
    {
     "data": {
      "text/plain": [
       "104"
      ]
     },
     "execution_count": 42,
     "metadata": {},
     "output_type": "execute_result"
    }
   ],
   "source": [
    "df.date.nunique()\n"
   ]
  },
  {
   "cell_type": "code",
   "execution_count": 43,
   "id": "03ea77b4",
   "metadata": {},
   "outputs": [],
   "source": [
    "df['dayOfWeek'] = df.date.dt.dayofweek\n"
   ]
  },
  {
   "cell_type": "code",
   "execution_count": 44,
   "id": "0f7b8b91",
   "metadata": {},
   "outputs": [],
   "source": [
    "df['month'] = df.date.dt.month \n"
   ]
  },
  {
   "cell_type": "code",
   "execution_count": 45,
   "id": "46f31ab1",
   "metadata": {},
   "outputs": [],
   "source": [
    "df['firstPartOfMonth'] = df.date.dt.day <= 10\n"
   ]
  },
  {
   "cell_type": "code",
   "execution_count": 46,
   "id": "5f8bb6d6",
   "metadata": {},
   "outputs": [],
   "source": [
    "df['secondPartOfMonth'] = ((df.date.dt.day > 10) & (df.date.dt.day <= 20))\n"
   ]
  },
  {
   "cell_type": "code",
   "execution_count": 47,
   "id": "f721b026",
   "metadata": {},
   "outputs": [],
   "source": [
    "df['thirdPartOfMonth'] = df.date.dt.day > 20\n"
   ]
  },
  {
   "cell_type": "code",
   "execution_count": 48,
   "id": "7155c148",
   "metadata": {},
   "outputs": [],
   "source": [
    "df['day'] = df.date.dt.day\n"
   ]
  },
  {
   "cell_type": "code",
   "execution_count": 49,
   "id": "4fd7885a",
   "metadata": {},
   "outputs": [
    {
     "data": {
      "text/html": [
       "<div>\n",
       "<style scoped>\n",
       "    .dataframe tbody tr th:only-of-type {\n",
       "        vertical-align: middle;\n",
       "    }\n",
       "\n",
       "    .dataframe tbody tr th {\n",
       "        vertical-align: top;\n",
       "    }\n",
       "\n",
       "    .dataframe thead th {\n",
       "        text-align: right;\n",
       "    }\n",
       "</style>\n",
       "<table border=\"1\" class=\"dataframe\">\n",
       "  <thead>\n",
       "    <tr style=\"text-align: right;\">\n",
       "      <th></th>\n",
       "      <th>date</th>\n",
       "      <th>averagePrice</th>\n",
       "      <th>totalVolume</th>\n",
       "      <th>PLU4046</th>\n",
       "      <th>PLU4225</th>\n",
       "      <th>PLU4770</th>\n",
       "      <th>totalBags</th>\n",
       "      <th>smallBags</th>\n",
       "      <th>largeBags</th>\n",
       "      <th>xLargeBags</th>\n",
       "      <th>type</th>\n",
       "      <th>region</th>\n",
       "      <th>dayOfWeek</th>\n",
       "      <th>month</th>\n",
       "      <th>firstPartOfMonth</th>\n",
       "      <th>secondPartOfMonth</th>\n",
       "      <th>thirdPartOfMonth</th>\n",
       "      <th>day</th>\n",
       "    </tr>\n",
       "  </thead>\n",
       "  <tbody>\n",
       "    <tr>\n",
       "      <th>0</th>\n",
       "      <td>2015-12-27</td>\n",
       "      <td>1.33</td>\n",
       "      <td>0.000571</td>\n",
       "      <td>0.000030</td>\n",
       "      <td>0.002779</td>\n",
       "      <td>0.000035</td>\n",
       "      <td>0.000800</td>\n",
       "      <td>0.000898</td>\n",
       "      <td>0.000083</td>\n",
       "      <td>0.0</td>\n",
       "      <td>0</td>\n",
       "      <td>0</td>\n",
       "      <td>6.0</td>\n",
       "      <td>12.0</td>\n",
       "      <td>False</td>\n",
       "      <td>False</td>\n",
       "      <td>True</td>\n",
       "      <td>27.0</td>\n",
       "    </tr>\n",
       "    <tr>\n",
       "      <th>1</th>\n",
       "      <td>2015-12-20</td>\n",
       "      <td>1.35</td>\n",
       "      <td>0.000361</td>\n",
       "      <td>0.000011</td>\n",
       "      <td>0.002261</td>\n",
       "      <td>0.000042</td>\n",
       "      <td>0.000920</td>\n",
       "      <td>0.001035</td>\n",
       "      <td>0.000087</td>\n",
       "      <td>0.0</td>\n",
       "      <td>0</td>\n",
       "      <td>0</td>\n",
       "      <td>6.0</td>\n",
       "      <td>12.0</td>\n",
       "      <td>False</td>\n",
       "      <td>True</td>\n",
       "      <td>False</td>\n",
       "      <td>20.0</td>\n",
       "    </tr>\n",
       "    <tr>\n",
       "      <th>2</th>\n",
       "      <td>2015-12-13</td>\n",
       "      <td>0.93</td>\n",
       "      <td>0.001781</td>\n",
       "      <td>0.000017</td>\n",
       "      <td>0.005664</td>\n",
       "      <td>0.000094</td>\n",
       "      <td>0.000718</td>\n",
       "      <td>0.000803</td>\n",
       "      <td>0.000092</td>\n",
       "      <td>0.0</td>\n",
       "      <td>0</td>\n",
       "      <td>0</td>\n",
       "      <td>6.0</td>\n",
       "      <td>12.0</td>\n",
       "      <td>False</td>\n",
       "      <td>True</td>\n",
       "      <td>False</td>\n",
       "      <td>13.0</td>\n",
       "    </tr>\n",
       "    <tr>\n",
       "      <th>3</th>\n",
       "      <td>2015-06-12</td>\n",
       "      <td>1.08</td>\n",
       "      <td>0.000902</td>\n",
       "      <td>0.000035</td>\n",
       "      <td>0.003703</td>\n",
       "      <td>0.000053</td>\n",
       "      <td>0.000371</td>\n",
       "      <td>0.000402</td>\n",
       "      <td>0.000119</td>\n",
       "      <td>0.0</td>\n",
       "      <td>0</td>\n",
       "      <td>0</td>\n",
       "      <td>4.0</td>\n",
       "      <td>6.0</td>\n",
       "      <td>False</td>\n",
       "      <td>True</td>\n",
       "      <td>False</td>\n",
       "      <td>12.0</td>\n",
       "    </tr>\n",
       "    <tr>\n",
       "      <th>4</th>\n",
       "      <td>2015-11-29</td>\n",
       "      <td>1.28</td>\n",
       "      <td>0.000275</td>\n",
       "      <td>0.000025</td>\n",
       "      <td>0.002219</td>\n",
       "      <td>0.000055</td>\n",
       "      <td>0.000427</td>\n",
       "      <td>0.000454</td>\n",
       "      <td>0.000176</td>\n",
       "      <td>0.0</td>\n",
       "      <td>0</td>\n",
       "      <td>0</td>\n",
       "      <td>6.0</td>\n",
       "      <td>11.0</td>\n",
       "      <td>False</td>\n",
       "      <td>False</td>\n",
       "      <td>True</td>\n",
       "      <td>29.0</td>\n",
       "    </tr>\n",
       "  </tbody>\n",
       "</table>\n",
       "</div>"
      ],
      "text/plain": [
       "        date  averagePrice  totalVolume   PLU4046   PLU4225   PLU4770  \\\n",
       "0 2015-12-27          1.33     0.000571  0.000030  0.002779  0.000035   \n",
       "1 2015-12-20          1.35     0.000361  0.000011  0.002261  0.000042   \n",
       "2 2015-12-13          0.93     0.001781  0.000017  0.005664  0.000094   \n",
       "3 2015-06-12          1.08     0.000902  0.000035  0.003703  0.000053   \n",
       "4 2015-11-29          1.28     0.000275  0.000025  0.002219  0.000055   \n",
       "\n",
       "   totalBags  smallBags  largeBags  xLargeBags  type  region  dayOfWeek  \\\n",
       "0   0.000800   0.000898   0.000083         0.0     0       0        6.0   \n",
       "1   0.000920   0.001035   0.000087         0.0     0       0        6.0   \n",
       "2   0.000718   0.000803   0.000092         0.0     0       0        6.0   \n",
       "3   0.000371   0.000402   0.000119         0.0     0       0        4.0   \n",
       "4   0.000427   0.000454   0.000176         0.0     0       0        6.0   \n",
       "\n",
       "   month  firstPartOfMonth  secondPartOfMonth  thirdPartOfMonth   day  \n",
       "0   12.0             False              False              True  27.0  \n",
       "1   12.0             False               True             False  20.0  \n",
       "2   12.0             False               True             False  13.0  \n",
       "3    6.0             False               True             False  12.0  \n",
       "4   11.0             False              False              True  29.0  "
      ]
     },
     "execution_count": 49,
     "metadata": {},
     "output_type": "execute_result"
    }
   ],
   "source": [
    "df.head()\n"
   ]
  },
  {
   "cell_type": "code",
   "execution_count": 50,
   "id": "b26f668c",
   "metadata": {},
   "outputs": [
    {
     "data": {
      "text/plain": [
       "0        0\n",
       "1        0\n",
       "2        0\n",
       "3        0\n",
       "4        0\n",
       "        ..\n",
       "16463    0\n",
       "16464    0\n",
       "16465    0\n",
       "16466    0\n",
       "16467    0\n",
       "Name: firstPartOfMonth, Length: 16468, dtype: int32"
      ]
     },
     "execution_count": 50,
     "metadata": {},
     "output_type": "execute_result"
    }
   ],
   "source": [
    "df.firstPartOfMonth.astype('int')\n"
   ]
  },
  {
   "cell_type": "code",
   "execution_count": 51,
   "id": "d8a8021d",
   "metadata": {},
   "outputs": [],
   "source": [
    "df['firstPartOfMonth'] = df.firstPartOfMonth.astype('int')\n"
   ]
  },
  {
   "cell_type": "code",
   "execution_count": 52,
   "id": "a1192a26",
   "metadata": {},
   "outputs": [],
   "source": [
    "df['secondPartOfMonth'] = df.secondPartOfMonth.astype('int')\n"
   ]
  },
  {
   "cell_type": "code",
   "execution_count": 53,
   "id": "35510c46",
   "metadata": {},
   "outputs": [],
   "source": [
    "df['thirdPartOfMonth'] = df.thirdPartOfMonth.astype('int')\n"
   ]
  },
  {
   "cell_type": "code",
   "execution_count": 54,
   "id": "579c6f96",
   "metadata": {},
   "outputs": [
    {
     "data": {
      "text/html": [
       "<div>\n",
       "<style scoped>\n",
       "    .dataframe tbody tr th:only-of-type {\n",
       "        vertical-align: middle;\n",
       "    }\n",
       "\n",
       "    .dataframe tbody tr th {\n",
       "        vertical-align: top;\n",
       "    }\n",
       "\n",
       "    .dataframe thead th {\n",
       "        text-align: right;\n",
       "    }\n",
       "</style>\n",
       "<table border=\"1\" class=\"dataframe\">\n",
       "  <thead>\n",
       "    <tr style=\"text-align: right;\">\n",
       "      <th></th>\n",
       "      <th>date</th>\n",
       "      <th>averagePrice</th>\n",
       "      <th>totalVolume</th>\n",
       "      <th>PLU4046</th>\n",
       "      <th>PLU4225</th>\n",
       "      <th>PLU4770</th>\n",
       "      <th>totalBags</th>\n",
       "      <th>smallBags</th>\n",
       "      <th>largeBags</th>\n",
       "      <th>xLargeBags</th>\n",
       "      <th>type</th>\n",
       "      <th>region</th>\n",
       "      <th>dayOfWeek</th>\n",
       "      <th>month</th>\n",
       "      <th>firstPartOfMonth</th>\n",
       "      <th>secondPartOfMonth</th>\n",
       "      <th>thirdPartOfMonth</th>\n",
       "      <th>day</th>\n",
       "    </tr>\n",
       "  </thead>\n",
       "  <tbody>\n",
       "    <tr>\n",
       "      <th>0</th>\n",
       "      <td>2015-12-27</td>\n",
       "      <td>1.33</td>\n",
       "      <td>0.000571</td>\n",
       "      <td>0.000030</td>\n",
       "      <td>0.002779</td>\n",
       "      <td>0.000035</td>\n",
       "      <td>0.000800</td>\n",
       "      <td>0.000898</td>\n",
       "      <td>0.000083</td>\n",
       "      <td>0.0</td>\n",
       "      <td>0</td>\n",
       "      <td>0</td>\n",
       "      <td>6.0</td>\n",
       "      <td>12.0</td>\n",
       "      <td>0</td>\n",
       "      <td>0</td>\n",
       "      <td>1</td>\n",
       "      <td>27.0</td>\n",
       "    </tr>\n",
       "    <tr>\n",
       "      <th>1</th>\n",
       "      <td>2015-12-20</td>\n",
       "      <td>1.35</td>\n",
       "      <td>0.000361</td>\n",
       "      <td>0.000011</td>\n",
       "      <td>0.002261</td>\n",
       "      <td>0.000042</td>\n",
       "      <td>0.000920</td>\n",
       "      <td>0.001035</td>\n",
       "      <td>0.000087</td>\n",
       "      <td>0.0</td>\n",
       "      <td>0</td>\n",
       "      <td>0</td>\n",
       "      <td>6.0</td>\n",
       "      <td>12.0</td>\n",
       "      <td>0</td>\n",
       "      <td>1</td>\n",
       "      <td>0</td>\n",
       "      <td>20.0</td>\n",
       "    </tr>\n",
       "    <tr>\n",
       "      <th>2</th>\n",
       "      <td>2015-12-13</td>\n",
       "      <td>0.93</td>\n",
       "      <td>0.001781</td>\n",
       "      <td>0.000017</td>\n",
       "      <td>0.005664</td>\n",
       "      <td>0.000094</td>\n",
       "      <td>0.000718</td>\n",
       "      <td>0.000803</td>\n",
       "      <td>0.000092</td>\n",
       "      <td>0.0</td>\n",
       "      <td>0</td>\n",
       "      <td>0</td>\n",
       "      <td>6.0</td>\n",
       "      <td>12.0</td>\n",
       "      <td>0</td>\n",
       "      <td>1</td>\n",
       "      <td>0</td>\n",
       "      <td>13.0</td>\n",
       "    </tr>\n",
       "    <tr>\n",
       "      <th>3</th>\n",
       "      <td>2015-06-12</td>\n",
       "      <td>1.08</td>\n",
       "      <td>0.000902</td>\n",
       "      <td>0.000035</td>\n",
       "      <td>0.003703</td>\n",
       "      <td>0.000053</td>\n",
       "      <td>0.000371</td>\n",
       "      <td>0.000402</td>\n",
       "      <td>0.000119</td>\n",
       "      <td>0.0</td>\n",
       "      <td>0</td>\n",
       "      <td>0</td>\n",
       "      <td>4.0</td>\n",
       "      <td>6.0</td>\n",
       "      <td>0</td>\n",
       "      <td>1</td>\n",
       "      <td>0</td>\n",
       "      <td>12.0</td>\n",
       "    </tr>\n",
       "    <tr>\n",
       "      <th>4</th>\n",
       "      <td>2015-11-29</td>\n",
       "      <td>1.28</td>\n",
       "      <td>0.000275</td>\n",
       "      <td>0.000025</td>\n",
       "      <td>0.002219</td>\n",
       "      <td>0.000055</td>\n",
       "      <td>0.000427</td>\n",
       "      <td>0.000454</td>\n",
       "      <td>0.000176</td>\n",
       "      <td>0.0</td>\n",
       "      <td>0</td>\n",
       "      <td>0</td>\n",
       "      <td>6.0</td>\n",
       "      <td>11.0</td>\n",
       "      <td>0</td>\n",
       "      <td>0</td>\n",
       "      <td>1</td>\n",
       "      <td>29.0</td>\n",
       "    </tr>\n",
       "  </tbody>\n",
       "</table>\n",
       "</div>"
      ],
      "text/plain": [
       "        date  averagePrice  totalVolume   PLU4046   PLU4225   PLU4770  \\\n",
       "0 2015-12-27          1.33     0.000571  0.000030  0.002779  0.000035   \n",
       "1 2015-12-20          1.35     0.000361  0.000011  0.002261  0.000042   \n",
       "2 2015-12-13          0.93     0.001781  0.000017  0.005664  0.000094   \n",
       "3 2015-06-12          1.08     0.000902  0.000035  0.003703  0.000053   \n",
       "4 2015-11-29          1.28     0.000275  0.000025  0.002219  0.000055   \n",
       "\n",
       "   totalBags  smallBags  largeBags  xLargeBags  type  region  dayOfWeek  \\\n",
       "0   0.000800   0.000898   0.000083         0.0     0       0        6.0   \n",
       "1   0.000920   0.001035   0.000087         0.0     0       0        6.0   \n",
       "2   0.000718   0.000803   0.000092         0.0     0       0        6.0   \n",
       "3   0.000371   0.000402   0.000119         0.0     0       0        4.0   \n",
       "4   0.000427   0.000454   0.000176         0.0     0       0        6.0   \n",
       "\n",
       "   month  firstPartOfMonth  secondPartOfMonth  thirdPartOfMonth   day  \n",
       "0   12.0                 0                  0                 1  27.0  \n",
       "1   12.0                 0                  1                 0  20.0  \n",
       "2   12.0                 0                  1                 0  13.0  \n",
       "3    6.0                 0                  1                 0  12.0  \n",
       "4   11.0                 0                  0                 1  29.0  "
      ]
     },
     "execution_count": 54,
     "metadata": {},
     "output_type": "execute_result"
    }
   ],
   "source": [
    "df.head()\n"
   ]
  },
  {
   "cell_type": "code",
   "execution_count": 55,
   "id": "5cc120db",
   "metadata": {},
   "outputs": [],
   "source": [
    "df = df.drop('date', axis = 1)\n"
   ]
  },
  {
   "cell_type": "code",
   "execution_count": 56,
   "id": "f5de9bae",
   "metadata": {},
   "outputs": [
    {
     "data": {
      "text/html": [
       "<div>\n",
       "<style scoped>\n",
       "    .dataframe tbody tr th:only-of-type {\n",
       "        vertical-align: middle;\n",
       "    }\n",
       "\n",
       "    .dataframe tbody tr th {\n",
       "        vertical-align: top;\n",
       "    }\n",
       "\n",
       "    .dataframe thead th {\n",
       "        text-align: right;\n",
       "    }\n",
       "</style>\n",
       "<table border=\"1\" class=\"dataframe\">\n",
       "  <thead>\n",
       "    <tr style=\"text-align: right;\">\n",
       "      <th></th>\n",
       "      <th>averagePrice</th>\n",
       "      <th>totalVolume</th>\n",
       "      <th>PLU4046</th>\n",
       "      <th>PLU4225</th>\n",
       "      <th>PLU4770</th>\n",
       "      <th>totalBags</th>\n",
       "      <th>smallBags</th>\n",
       "      <th>largeBags</th>\n",
       "      <th>xLargeBags</th>\n",
       "      <th>type</th>\n",
       "      <th>region</th>\n",
       "      <th>dayOfWeek</th>\n",
       "      <th>month</th>\n",
       "      <th>firstPartOfMonth</th>\n",
       "      <th>secondPartOfMonth</th>\n",
       "      <th>thirdPartOfMonth</th>\n",
       "      <th>day</th>\n",
       "    </tr>\n",
       "  </thead>\n",
       "  <tbody>\n",
       "    <tr>\n",
       "      <th>averagePrice</th>\n",
       "      <td>1.000000</td>\n",
       "      <td>-0.140470</td>\n",
       "      <td>-0.190096</td>\n",
       "      <td>-0.092084</td>\n",
       "      <td>-0.100567</td>\n",
       "      <td>-0.111597</td>\n",
       "      <td>-0.097682</td>\n",
       "      <td>-0.177480</td>\n",
       "      <td>-0.048284</td>\n",
       "      <td>NaN</td>\n",
       "      <td>-0.229408</td>\n",
       "      <td>0.059500</td>\n",
       "      <td>0.060642</td>\n",
       "      <td>-0.080652</td>\n",
       "      <td>0.030859</td>\n",
       "      <td>0.051206</td>\n",
       "      <td>0.092589</td>\n",
       "    </tr>\n",
       "    <tr>\n",
       "      <th>totalVolume</th>\n",
       "      <td>-0.140470</td>\n",
       "      <td>1.000000</td>\n",
       "      <td>0.985568</td>\n",
       "      <td>0.987154</td>\n",
       "      <td>0.934347</td>\n",
       "      <td>0.967689</td>\n",
       "      <td>0.960642</td>\n",
       "      <td>0.910226</td>\n",
       "      <td>0.521717</td>\n",
       "      <td>NaN</td>\n",
       "      <td>0.236579</td>\n",
       "      <td>-0.019227</td>\n",
       "      <td>-0.055212</td>\n",
       "      <td>0.040342</td>\n",
       "      <td>-0.032063</td>\n",
       "      <td>-0.009107</td>\n",
       "      <td>-0.034857</td>\n",
       "    </tr>\n",
       "    <tr>\n",
       "      <th>PLU4046</th>\n",
       "      <td>-0.190096</td>\n",
       "      <td>0.985568</td>\n",
       "      <td>1.000000</td>\n",
       "      <td>0.951952</td>\n",
       "      <td>0.898570</td>\n",
       "      <td>0.930395</td>\n",
       "      <td>0.922278</td>\n",
       "      <td>0.884229</td>\n",
       "      <td>0.474063</td>\n",
       "      <td>NaN</td>\n",
       "      <td>0.269481</td>\n",
       "      <td>-0.023587</td>\n",
       "      <td>-0.053007</td>\n",
       "      <td>0.040845</td>\n",
       "      <td>-0.034684</td>\n",
       "      <td>-0.007016</td>\n",
       "      <td>-0.031806</td>\n",
       "    </tr>\n",
       "    <tr>\n",
       "      <th>PLU4225</th>\n",
       "      <td>-0.092084</td>\n",
       "      <td>0.987154</td>\n",
       "      <td>0.951952</td>\n",
       "      <td>1.000000</td>\n",
       "      <td>0.927757</td>\n",
       "      <td>0.951779</td>\n",
       "      <td>0.943988</td>\n",
       "      <td>0.900496</td>\n",
       "      <td>0.504718</td>\n",
       "      <td>NaN</td>\n",
       "      <td>0.215733</td>\n",
       "      <td>-0.019182</td>\n",
       "      <td>-0.058429</td>\n",
       "      <td>0.046506</td>\n",
       "      <td>-0.032473</td>\n",
       "      <td>-0.014956</td>\n",
       "      <td>-0.044008</td>\n",
       "    </tr>\n",
       "    <tr>\n",
       "      <th>PLU4770</th>\n",
       "      <td>-0.100567</td>\n",
       "      <td>0.934347</td>\n",
       "      <td>0.898570</td>\n",
       "      <td>0.927757</td>\n",
       "      <td>1.000000</td>\n",
       "      <td>0.926405</td>\n",
       "      <td>0.923607</td>\n",
       "      <td>0.840523</td>\n",
       "      <td>0.646053</td>\n",
       "      <td>NaN</td>\n",
       "      <td>0.138092</td>\n",
       "      <td>-0.016683</td>\n",
       "      <td>-0.055079</td>\n",
       "      <td>0.029310</td>\n",
       "      <td>-0.026112</td>\n",
       "      <td>-0.003822</td>\n",
       "      <td>-0.021318</td>\n",
       "    </tr>\n",
       "    <tr>\n",
       "      <th>totalBags</th>\n",
       "      <td>-0.111597</td>\n",
       "      <td>0.967689</td>\n",
       "      <td>0.930395</td>\n",
       "      <td>0.951779</td>\n",
       "      <td>0.926405</td>\n",
       "      <td>1.000000</td>\n",
       "      <td>0.997341</td>\n",
       "      <td>0.911336</td>\n",
       "      <td>0.601856</td>\n",
       "      <td>NaN</td>\n",
       "      <td>0.190001</td>\n",
       "      <td>-0.006482</td>\n",
       "      <td>-0.047747</td>\n",
       "      <td>0.023023</td>\n",
       "      <td>-0.021989</td>\n",
       "      <td>-0.001534</td>\n",
       "      <td>-0.021137</td>\n",
       "    </tr>\n",
       "    <tr>\n",
       "      <th>smallBags</th>\n",
       "      <td>-0.097682</td>\n",
       "      <td>0.960642</td>\n",
       "      <td>0.922278</td>\n",
       "      <td>0.943988</td>\n",
       "      <td>0.923607</td>\n",
       "      <td>0.997341</td>\n",
       "      <td>1.000000</td>\n",
       "      <td>0.879131</td>\n",
       "      <td>0.611300</td>\n",
       "      <td>NaN</td>\n",
       "      <td>0.168650</td>\n",
       "      <td>-0.003972</td>\n",
       "      <td>-0.048978</td>\n",
       "      <td>0.019905</td>\n",
       "      <td>-0.023138</td>\n",
       "      <td>0.002770</td>\n",
       "      <td>-0.016462</td>\n",
       "    </tr>\n",
       "    <tr>\n",
       "      <th>largeBags</th>\n",
       "      <td>-0.177480</td>\n",
       "      <td>0.910226</td>\n",
       "      <td>0.884229</td>\n",
       "      <td>0.900496</td>\n",
       "      <td>0.840523</td>\n",
       "      <td>0.911336</td>\n",
       "      <td>0.879131</td>\n",
       "      <td>1.000000</td>\n",
       "      <td>0.447779</td>\n",
       "      <td>NaN</td>\n",
       "      <td>0.297452</td>\n",
       "      <td>-0.021015</td>\n",
       "      <td>-0.039242</td>\n",
       "      <td>0.039593</td>\n",
       "      <td>-0.014773</td>\n",
       "      <td>-0.025511</td>\n",
       "      <td>-0.046578</td>\n",
       "    </tr>\n",
       "    <tr>\n",
       "      <th>xLargeBags</th>\n",
       "      <td>-0.048284</td>\n",
       "      <td>0.521717</td>\n",
       "      <td>0.474063</td>\n",
       "      <td>0.504718</td>\n",
       "      <td>0.646053</td>\n",
       "      <td>0.601856</td>\n",
       "      <td>0.611300</td>\n",
       "      <td>0.447779</td>\n",
       "      <td>1.000000</td>\n",
       "      <td>NaN</td>\n",
       "      <td>-0.046144</td>\n",
       "      <td>0.019216</td>\n",
       "      <td>0.021452</td>\n",
       "      <td>-0.015788</td>\n",
       "      <td>0.008161</td>\n",
       "      <td>0.007919</td>\n",
       "      <td>0.019315</td>\n",
       "    </tr>\n",
       "    <tr>\n",
       "      <th>type</th>\n",
       "      <td>NaN</td>\n",
       "      <td>NaN</td>\n",
       "      <td>NaN</td>\n",
       "      <td>NaN</td>\n",
       "      <td>NaN</td>\n",
       "      <td>NaN</td>\n",
       "      <td>NaN</td>\n",
       "      <td>NaN</td>\n",
       "      <td>NaN</td>\n",
       "      <td>1.000000</td>\n",
       "      <td>0.795191</td>\n",
       "      <td>NaN</td>\n",
       "      <td>NaN</td>\n",
       "      <td>0.573042</td>\n",
       "      <td>0.547451</td>\n",
       "      <td>0.555523</td>\n",
       "      <td>NaN</td>\n",
       "    </tr>\n",
       "    <tr>\n",
       "      <th>region</th>\n",
       "      <td>-0.229408</td>\n",
       "      <td>0.236579</td>\n",
       "      <td>0.269481</td>\n",
       "      <td>0.215733</td>\n",
       "      <td>0.138092</td>\n",
       "      <td>0.190001</td>\n",
       "      <td>0.168650</td>\n",
       "      <td>0.297452</td>\n",
       "      <td>-0.046144</td>\n",
       "      <td>0.795191</td>\n",
       "      <td>1.000000</td>\n",
       "      <td>-0.012909</td>\n",
       "      <td>0.000977</td>\n",
       "      <td>0.464480</td>\n",
       "      <td>0.434551</td>\n",
       "      <td>0.433451</td>\n",
       "      <td>-0.028670</td>\n",
       "    </tr>\n",
       "    <tr>\n",
       "      <th>dayOfWeek</th>\n",
       "      <td>0.059500</td>\n",
       "      <td>-0.019227</td>\n",
       "      <td>-0.023587</td>\n",
       "      <td>-0.019182</td>\n",
       "      <td>-0.016683</td>\n",
       "      <td>-0.006482</td>\n",
       "      <td>-0.003972</td>\n",
       "      <td>-0.021015</td>\n",
       "      <td>0.019216</td>\n",
       "      <td>NaN</td>\n",
       "      <td>-0.012909</td>\n",
       "      <td>1.000000</td>\n",
       "      <td>-0.139595</td>\n",
       "      <td>-0.726071</td>\n",
       "      <td>0.300255</td>\n",
       "      <td>0.438697</td>\n",
       "      <td>0.641408</td>\n",
       "    </tr>\n",
       "    <tr>\n",
       "      <th>month</th>\n",
       "      <td>0.060642</td>\n",
       "      <td>-0.055212</td>\n",
       "      <td>-0.053007</td>\n",
       "      <td>-0.058429</td>\n",
       "      <td>-0.055079</td>\n",
       "      <td>-0.047747</td>\n",
       "      <td>-0.048978</td>\n",
       "      <td>-0.039242</td>\n",
       "      <td>0.021452</td>\n",
       "      <td>NaN</td>\n",
       "      <td>0.000977</td>\n",
       "      <td>-0.139595</td>\n",
       "      <td>1.000000</td>\n",
       "      <td>0.045582</td>\n",
       "      <td>0.012941</td>\n",
       "      <td>-0.059099</td>\n",
       "      <td>-0.024337</td>\n",
       "    </tr>\n",
       "    <tr>\n",
       "      <th>firstPartOfMonth</th>\n",
       "      <td>-0.080652</td>\n",
       "      <td>0.040342</td>\n",
       "      <td>0.040845</td>\n",
       "      <td>0.046506</td>\n",
       "      <td>0.029310</td>\n",
       "      <td>0.023023</td>\n",
       "      <td>0.019905</td>\n",
       "      <td>0.039593</td>\n",
       "      <td>-0.015788</td>\n",
       "      <td>0.573042</td>\n",
       "      <td>0.464480</td>\n",
       "      <td>-0.726071</td>\n",
       "      <td>0.045582</td>\n",
       "      <td>1.000000</td>\n",
       "      <td>-0.031831</td>\n",
       "      <td>-0.032300</td>\n",
       "      <td>-0.832758</td>\n",
       "    </tr>\n",
       "    <tr>\n",
       "      <th>secondPartOfMonth</th>\n",
       "      <td>0.030859</td>\n",
       "      <td>-0.032063</td>\n",
       "      <td>-0.034684</td>\n",
       "      <td>-0.032473</td>\n",
       "      <td>-0.026112</td>\n",
       "      <td>-0.021989</td>\n",
       "      <td>-0.023138</td>\n",
       "      <td>-0.014773</td>\n",
       "      <td>0.008161</td>\n",
       "      <td>0.547451</td>\n",
       "      <td>0.434551</td>\n",
       "      <td>0.300255</td>\n",
       "      <td>0.012941</td>\n",
       "      <td>-0.031831</td>\n",
       "      <td>1.000000</td>\n",
       "      <td>-0.030858</td>\n",
       "      <td>0.029893</td>\n",
       "    </tr>\n",
       "    <tr>\n",
       "      <th>thirdPartOfMonth</th>\n",
       "      <td>0.051206</td>\n",
       "      <td>-0.009107</td>\n",
       "      <td>-0.007016</td>\n",
       "      <td>-0.014956</td>\n",
       "      <td>-0.003822</td>\n",
       "      <td>-0.001534</td>\n",
       "      <td>0.002770</td>\n",
       "      <td>-0.025511</td>\n",
       "      <td>0.007919</td>\n",
       "      <td>0.555523</td>\n",
       "      <td>0.433451</td>\n",
       "      <td>0.438697</td>\n",
       "      <td>-0.059099</td>\n",
       "      <td>-0.032300</td>\n",
       "      <td>-0.030858</td>\n",
       "      <td>1.000000</td>\n",
       "      <td>0.815330</td>\n",
       "    </tr>\n",
       "    <tr>\n",
       "      <th>day</th>\n",
       "      <td>0.092589</td>\n",
       "      <td>-0.034857</td>\n",
       "      <td>-0.031806</td>\n",
       "      <td>-0.044008</td>\n",
       "      <td>-0.021318</td>\n",
       "      <td>-0.021137</td>\n",
       "      <td>-0.016462</td>\n",
       "      <td>-0.046578</td>\n",
       "      <td>0.019315</td>\n",
       "      <td>NaN</td>\n",
       "      <td>-0.028670</td>\n",
       "      <td>0.641408</td>\n",
       "      <td>-0.024337</td>\n",
       "      <td>-0.832758</td>\n",
       "      <td>0.029893</td>\n",
       "      <td>0.815330</td>\n",
       "      <td>1.000000</td>\n",
       "    </tr>\n",
       "  </tbody>\n",
       "</table>\n",
       "</div>"
      ],
      "text/plain": [
       "                   averagePrice  totalVolume   PLU4046   PLU4225   PLU4770  \\\n",
       "averagePrice           1.000000    -0.140470 -0.190096 -0.092084 -0.100567   \n",
       "totalVolume           -0.140470     1.000000  0.985568  0.987154  0.934347   \n",
       "PLU4046               -0.190096     0.985568  1.000000  0.951952  0.898570   \n",
       "PLU4225               -0.092084     0.987154  0.951952  1.000000  0.927757   \n",
       "PLU4770               -0.100567     0.934347  0.898570  0.927757  1.000000   \n",
       "totalBags             -0.111597     0.967689  0.930395  0.951779  0.926405   \n",
       "smallBags             -0.097682     0.960642  0.922278  0.943988  0.923607   \n",
       "largeBags             -0.177480     0.910226  0.884229  0.900496  0.840523   \n",
       "xLargeBags            -0.048284     0.521717  0.474063  0.504718  0.646053   \n",
       "type                        NaN          NaN       NaN       NaN       NaN   \n",
       "region                -0.229408     0.236579  0.269481  0.215733  0.138092   \n",
       "dayOfWeek              0.059500    -0.019227 -0.023587 -0.019182 -0.016683   \n",
       "month                  0.060642    -0.055212 -0.053007 -0.058429 -0.055079   \n",
       "firstPartOfMonth      -0.080652     0.040342  0.040845  0.046506  0.029310   \n",
       "secondPartOfMonth      0.030859    -0.032063 -0.034684 -0.032473 -0.026112   \n",
       "thirdPartOfMonth       0.051206    -0.009107 -0.007016 -0.014956 -0.003822   \n",
       "day                    0.092589    -0.034857 -0.031806 -0.044008 -0.021318   \n",
       "\n",
       "                   totalBags  smallBags  largeBags  xLargeBags      type  \\\n",
       "averagePrice       -0.111597  -0.097682  -0.177480   -0.048284       NaN   \n",
       "totalVolume         0.967689   0.960642   0.910226    0.521717       NaN   \n",
       "PLU4046             0.930395   0.922278   0.884229    0.474063       NaN   \n",
       "PLU4225             0.951779   0.943988   0.900496    0.504718       NaN   \n",
       "PLU4770             0.926405   0.923607   0.840523    0.646053       NaN   \n",
       "totalBags           1.000000   0.997341   0.911336    0.601856       NaN   \n",
       "smallBags           0.997341   1.000000   0.879131    0.611300       NaN   \n",
       "largeBags           0.911336   0.879131   1.000000    0.447779       NaN   \n",
       "xLargeBags          0.601856   0.611300   0.447779    1.000000       NaN   \n",
       "type                     NaN        NaN        NaN         NaN  1.000000   \n",
       "region              0.190001   0.168650   0.297452   -0.046144  0.795191   \n",
       "dayOfWeek          -0.006482  -0.003972  -0.021015    0.019216       NaN   \n",
       "month              -0.047747  -0.048978  -0.039242    0.021452       NaN   \n",
       "firstPartOfMonth    0.023023   0.019905   0.039593   -0.015788  0.573042   \n",
       "secondPartOfMonth  -0.021989  -0.023138  -0.014773    0.008161  0.547451   \n",
       "thirdPartOfMonth   -0.001534   0.002770  -0.025511    0.007919  0.555523   \n",
       "day                -0.021137  -0.016462  -0.046578    0.019315       NaN   \n",
       "\n",
       "                     region  dayOfWeek     month  firstPartOfMonth  \\\n",
       "averagePrice      -0.229408   0.059500  0.060642         -0.080652   \n",
       "totalVolume        0.236579  -0.019227 -0.055212          0.040342   \n",
       "PLU4046            0.269481  -0.023587 -0.053007          0.040845   \n",
       "PLU4225            0.215733  -0.019182 -0.058429          0.046506   \n",
       "PLU4770            0.138092  -0.016683 -0.055079          0.029310   \n",
       "totalBags          0.190001  -0.006482 -0.047747          0.023023   \n",
       "smallBags          0.168650  -0.003972 -0.048978          0.019905   \n",
       "largeBags          0.297452  -0.021015 -0.039242          0.039593   \n",
       "xLargeBags        -0.046144   0.019216  0.021452         -0.015788   \n",
       "type               0.795191        NaN       NaN          0.573042   \n",
       "region             1.000000  -0.012909  0.000977          0.464480   \n",
       "dayOfWeek         -0.012909   1.000000 -0.139595         -0.726071   \n",
       "month              0.000977  -0.139595  1.000000          0.045582   \n",
       "firstPartOfMonth   0.464480  -0.726071  0.045582          1.000000   \n",
       "secondPartOfMonth  0.434551   0.300255  0.012941         -0.031831   \n",
       "thirdPartOfMonth   0.433451   0.438697 -0.059099         -0.032300   \n",
       "day               -0.028670   0.641408 -0.024337         -0.832758   \n",
       "\n",
       "                   secondPartOfMonth  thirdPartOfMonth       day  \n",
       "averagePrice                0.030859          0.051206  0.092589  \n",
       "totalVolume                -0.032063         -0.009107 -0.034857  \n",
       "PLU4046                    -0.034684         -0.007016 -0.031806  \n",
       "PLU4225                    -0.032473         -0.014956 -0.044008  \n",
       "PLU4770                    -0.026112         -0.003822 -0.021318  \n",
       "totalBags                  -0.021989         -0.001534 -0.021137  \n",
       "smallBags                  -0.023138          0.002770 -0.016462  \n",
       "largeBags                  -0.014773         -0.025511 -0.046578  \n",
       "xLargeBags                  0.008161          0.007919  0.019315  \n",
       "type                        0.547451          0.555523       NaN  \n",
       "region                      0.434551          0.433451 -0.028670  \n",
       "dayOfWeek                   0.300255          0.438697  0.641408  \n",
       "month                       0.012941         -0.059099 -0.024337  \n",
       "firstPartOfMonth           -0.031831         -0.032300 -0.832758  \n",
       "secondPartOfMonth           1.000000         -0.030858  0.029893  \n",
       "thirdPartOfMonth           -0.030858          1.000000  0.815330  \n",
       "day                         0.029893          0.815330  1.000000  "
      ]
     },
     "execution_count": 56,
     "metadata": {},
     "output_type": "execute_result"
    }
   ],
   "source": [
    "df.corr()\n"
   ]
  },
  {
   "cell_type": "markdown",
   "id": "2931153d",
   "metadata": {},
   "source": [
    "Exploratory Analysis and Visualization\n",
    "Exploratory Data Analysis refers to the critical process of performing initial investigations on data so as to discover patterns,to spot anomalies,to test hypothesis and to check assumptions with the help of summary statistics and graphical representations.\n",
    "\n",
    "Instructions (delete this cell)\n",
    "\n",
    "Compute the mean, sum, range and other interesting statistics for numeric columns\n",
    "Explore distributions of numeric columns using histograms etc.\n",
    "Explore relationship between columns using scatter plots, bar charts etc.\n",
    "Make a note of interesting insights from the exploratory analysis"
   ]
  },
  {
   "cell_type": "code",
   "execution_count": 57,
   "id": "588db0c1",
   "metadata": {},
   "outputs": [],
   "source": [
    "from sklearn.model_selection import train_test_split\n"
   ]
  },
  {
   "cell_type": "code",
   "execution_count": 58,
   "id": "7bcda676",
   "metadata": {},
   "outputs": [
    {
     "data": {
      "text/plain": [
       "1517"
      ]
     },
     "execution_count": 58,
     "metadata": {},
     "output_type": "execute_result"
    }
   ],
   "source": [
    "df.averagePrice.count()\n"
   ]
  },
  {
   "cell_type": "code",
   "execution_count": 59,
   "id": "48c762bc",
   "metadata": {},
   "outputs": [
    {
     "data": {
      "text/plain": [
       "<AxesSubplot:>"
      ]
     },
     "execution_count": 59,
     "metadata": {},
     "output_type": "execute_result"
    },
    {
     "data": {
      "image/png": "[encoded data removed]",
      "text/plain": [
       "<Figure size 432x288 with 1 Axes>"
      ]
     },
     "metadata": {
      "needs_background": "light"
     },
     "output_type": "display_data"
    }
   ],
   "source": [
    "df.averagePrice.hist()\n"
   ]
  },
  {
   "cell_type": "code",
   "execution_count": 60,
   "id": "5d6884dd",
   "metadata": {},
   "outputs": [
    {
     "data": {
      "text/plain": [
       "count    1517.000000\n",
       "mean        1.074990\n",
       "std         0.188891\n",
       "min         0.490000\n",
       "25%         0.980000\n",
       "50%         1.080000\n",
       "75%         1.190000\n",
       "max         1.680000\n",
       "Name: averagePrice, dtype: float64"
      ]
     },
     "execution_count": 60,
     "metadata": {},
     "output_type": "execute_result"
    }
   ],
   "source": [
    "df.averagePrice.describe()\n"
   ]
  },
  {
   "cell_type": "code",
   "execution_count": 61,
   "id": "90f416a4",
   "metadata": {},
   "outputs": [],
   "source": [
    "X_train, X_test, y_train, y_test = train_test_split(df.drop('averagePrice', axis = 1), df.averagePrice, test_size = 5000, random_state = 42)\n"
   ]
  },
  {
   "cell_type": "code",
   "execution_count": 62,
   "id": "7ce989f5",
   "metadata": {},
   "outputs": [
    {
     "data": {
      "text/plain": [
       "count    1059.000000\n",
       "mean        1.068499\n",
       "std         0.182774\n",
       "min         0.490000\n",
       "25%         0.980000\n",
       "50%         1.070000\n",
       "75%         1.180000\n",
       "max         1.620000\n",
       "Name: averagePrice, dtype: float64"
      ]
     },
     "execution_count": 62,
     "metadata": {},
     "output_type": "execute_result"
    }
   ],
   "source": [
    "y_train.describe()\n"
   ]
  },
  {
   "cell_type": "code",
   "execution_count": 63,
   "id": "43dbac94",
   "metadata": {},
   "outputs": [
    {
     "data": {
      "text/plain": [
       "<AxesSubplot:>"
      ]
     },
     "execution_count": 63,
     "metadata": {},
     "output_type": "execute_result"
    },
    {
     "data": {
      "image/png": "[encoded data removed]",
      "text/plain": [
       "<Figure size 432x288 with 1 Axes>"
      ]
     },
     "metadata": {
      "needs_background": "light"
     },
     "output_type": "display_data"
    }
   ],
   "source": [
    "y_train.hist()\n"
   ]
  },
  {
   "cell_type": "code",
   "execution_count": 64,
   "id": "615eeaa5",
   "metadata": {},
   "outputs": [
    {
     "data": {
      "text/plain": [
       "count    458.000000\n",
       "mean       1.090000\n",
       "std        0.201739\n",
       "min        0.510000\n",
       "25%        0.972500\n",
       "50%        1.100000\n",
       "75%        1.210000\n",
       "max        1.680000\n",
       "Name: averagePrice, dtype: float64"
      ]
     },
     "execution_count": 64,
     "metadata": {},
     "output_type": "execute_result"
    }
   ],
   "source": [
    "y_test.describe()\n"
   ]
  },
  {
   "cell_type": "code",
   "execution_count": 65,
   "id": "62b4b2e9",
   "metadata": {},
   "outputs": [
    {
     "data": {
      "text/plain": [
       "<AxesSubplot:>"
      ]
     },
     "execution_count": 65,
     "metadata": {},
     "output_type": "execute_result"
    },
    {
     "data": {
      "image/png": "[encoded data removed]",
      "text/plain": [
       "<Figure size 432x288 with 1 Axes>"
      ]
     },
     "metadata": {
      "needs_background": "light"
     },
     "output_type": "display_data"
    }
   ],
   "source": [
    "y_test.hist()\n"
   ]
  },
  {
   "cell_type": "code",
   "execution_count": 66,
   "id": "2f9325be",
   "metadata": {},
   "outputs": [],
   "source": [
    "from sklearn.model_selection import RandomizedSearchCV\n"
   ]
  },
  {
   "cell_type": "code",
   "execution_count": 67,
   "id": "b57090f5",
   "metadata": {},
   "outputs": [],
   "source": [
    "params = {\n",
    "    'base_estimator__max_depth' : [None, 5, 8, 10, 12, 15, 20, 25],\\\n",
    "    'base_estimator__max_features' : [None, 'log2', 'auto', 'sqrt'],\\\n",
    "    'base_estimator__max_leaf_nodes' : [None, 2, 4, 6, 8, 10, 15],\\\n",
    "    'n_estimators' : [25, 50, 75, 100, 150, 250],\\\n",
    "    'loss' : ['linear', 'square', 'exponential']\n",
    "}"
   ]
  },
  {
   "cell_type": "code",
   "execution_count": 68,
   "id": "fa4c7f7d",
   "metadata": {},
   "outputs": [],
   "source": [
    "from sklearn.metrics import SCORERS\n"
   ]
  },
  {
   "cell_type": "code",
   "execution_count": 69,
   "id": "3f306844",
   "metadata": {},
   "outputs": [
    {
     "data": {
      "text/plain": [
       "dict_keys(['explained_variance', 'r2', 'max_error', 'neg_median_absolute_error', 'neg_mean_absolute_error', 'neg_mean_absolute_percentage_error', 'neg_mean_squared_error', 'neg_mean_squared_log_error', 'neg_root_mean_squared_error', 'neg_mean_poisson_deviance', 'neg_mean_gamma_deviance', 'accuracy', 'top_k_accuracy', 'roc_auc', 'roc_auc_ovr', 'roc_auc_ovo', 'roc_auc_ovr_weighted', 'roc_auc_ovo_weighted', 'balanced_accuracy', 'average_precision', 'neg_log_loss', 'neg_brier_score', 'adjusted_rand_score', 'rand_score', 'homogeneity_score', 'completeness_score', 'v_measure_score', 'mutual_info_score', 'adjusted_mutual_info_score', 'normalized_mutual_info_score', 'fowlkes_mallows_score', 'precision', 'precision_macro', 'precision_micro', 'precision_samples', 'precision_weighted', 'recall', 'recall_macro', 'recall_micro', 'recall_samples', 'recall_weighted', 'f1', 'f1_macro', 'f1_micro', 'f1_samples', 'f1_weighted', 'jaccard', 'jaccard_macro', 'jaccard_micro', 'jaccard_samples', 'jaccard_weighted'])"
      ]
     },
     "execution_count": 69,
     "metadata": {},
     "output_type": "execute_result"
    }
   ],
   "source": [
    "SCORERS.keys()\n"
   ]
  },
  {
   "cell_type": "code",
   "execution_count": 73,
   "id": "1fc00319",
   "metadata": {},
   "outputs": [],
   "source": [
    "import matplotlib.pyplot as plt\n",
    "import seaborn as sns"
   ]
  },
  {
   "cell_type": "code",
   "execution_count": 76,
   "id": "5ef543ff",
   "metadata": {},
   "outputs": [
    {
     "data": {
      "text/plain": [
       "<AxesSubplot:>"
      ]
     },
     "execution_count": 76,
     "metadata": {},
     "output_type": "execute_result"
    },
    {
     "data": {
      "image/png": "[encoded data removed]",
      "text/plain": [
       "<Figure size 432x288 with 2 Axes>"
      ]
     },
     "metadata": {
      "needs_background": "light"
     },
     "output_type": "display_data"
    }
   ],
   "source": [
    "sns.heatmap(df.isnull())"
   ]
  },
  {
   "cell_type": "markdown",
   "id": "e2cdb300",
   "metadata": {},
   "source": [
    "Above I am checking the null values, as find there are no null values in the data set because the red color is distributed equally correspond to each column."
   ]
  },
  {
   "cell_type": "markdown",
   "id": "414c0c4f",
   "metadata": {},
   "source": [
    "Observation\n",
    "\n",
    "In our dataset there is unnamed column which I renamed to IndexNo column with values ranging from 0 to 51. This might denote the species of avocadoes perhaps as each unique value is recurrent for a number of times on diferent dates. The plot is not normaly distributed.\n",
    "\n",
    "The Avrg_Price per avocado assumes a normal distribution; the fair price ranging from 1 to 1.xx dolars.\n",
    "\n",
    "The total volume of avocados sold, or the volume sold per PLU number and the number of bagstypes used varies greatly assuming not normally distributed curve, so many values approaching zero.\n",
    "\n",
    "Avocado sales on each year assumes a normal distribution ata the year start and the curve turns down at every mid of the year. This tells that avocados are sold or are in season at every first half of the year. Also sales droped year 2018 compared to previous 3 years"
   ]
  },
  {
   "cell_type": "code",
   "execution_count": null,
   "id": "9ae1d453",
   "metadata": {},
   "outputs": [],
   "source": []
  }
 ],
 "metadata": {
  "kernelspec": {
   "display_name": "Python 3 (ipykernel)",
   "language": "python",
   "name": "python3"
  },
  "language_info": {
   "codemirror_mode": {
    "name": "ipython",
    "version": 3
   },
   "file_extension": ".py",
   "mimetype": "text/x-python",
   "name": "python",
   "nbconvert_exporter": "python",
   "pygments_lexer": "ipython3",
   "version": "3.9.7"
  }
 },
 "nbformat": 4,
 "nbformat_minor": 5
}
