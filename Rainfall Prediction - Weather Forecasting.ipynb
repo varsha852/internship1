{
 "cells": [
  {
   "cell_type": "markdown",
   "id": "f9cdb629",
   "metadata": {},
   "source": [
    "Rain Prediction –Weather forecasting\n",
    "\n",
    "Weather forecasting is the application of science and technology to predict the conditions of the atmosphere for a given location and time. Weather forecasts are made by collecting quantitative data about the current state of the atmosphere at a given place and using meteorology to project how the atmosphere will change.\n",
    "\n",
    "Rain Dataset is to predict whether or not it will rain tomorrow. The Dataset contains about 10 years of daily weather observations of different locations in Australia. Here, predict two things:\n",
    " \n",
    "1. Problem Statement: \n",
    "a) Design a predictive model with the use of machine learning algorithms to forecast whether or not it will rain tomorrow.\n",
    "\n",
    "b)  Design a predictive model with the use of machine learning algorithms to predict how much rainfall could be there.\n",
    "\n"
   ]
  },
  {
   "cell_type": "code",
   "execution_count": 1,
   "id": "fb7d4d80",
   "metadata": {},
   "outputs": [],
   "source": [
    "import pandas as pd\n",
    "import numpy as np\n",
    "import matplotlib.pyplot as plt\n",
    "import seaborn as sns\n",
    "%matplotlib inline"
   ]
  },
  {
   "cell_type": "markdown",
   "id": "dc6d7fd4",
   "metadata": {},
   "source": [
    "1. Problem Statement: \n",
    "Design a predictive model with the use of machine learning algorithms to forecast whether or not it will rain tomorrow in Australia."
   ]
  },
  {
   "cell_type": "code",
   "execution_count": 2,
   "id": "23e20a34",
   "metadata": {},
   "outputs": [],
   "source": [
    "rain = pd.read_csv(\"https://raw.githubusercontent.com/dsrscientist/dataset3/main/weatherAUS.csv\")\n"
   ]
  },
  {
   "cell_type": "code",
   "execution_count": 3,
   "id": "57c33cb7",
   "metadata": {},
   "outputs": [
    {
     "name": "stdout",
     "output_type": "stream",
     "text": [
      "         Date Location  MinTemp  MaxTemp  Rainfall  Evaporation  Sunshine  \\\n",
      "0  2008-12-01   Albury     13.4     22.9       0.6          NaN       NaN   \n",
      "1  2008-12-02   Albury      7.4     25.1       0.0          NaN       NaN   \n",
      "2  2008-12-03   Albury     12.9     25.7       0.0          NaN       NaN   \n",
      "3  2008-12-04   Albury      9.2     28.0       0.0          NaN       NaN   \n",
      "4  2008-12-05   Albury     17.5     32.3       1.0          NaN       NaN   \n",
      "\n",
      "  WindGustDir  WindGustSpeed WindDir9am  ... Humidity9am  Humidity3pm  \\\n",
      "0           W           44.0          W  ...        71.0         22.0   \n",
      "1         WNW           44.0        NNW  ...        44.0         25.0   \n",
      "2         WSW           46.0          W  ...        38.0         30.0   \n",
      "3          NE           24.0         SE  ...        45.0         16.0   \n",
      "4           W           41.0        ENE  ...        82.0         33.0   \n",
      "\n",
      "   Pressure9am  Pressure3pm  Cloud9am  Cloud3pm  Temp9am  Temp3pm  RainToday  \\\n",
      "0       1007.7       1007.1       8.0       NaN     16.9     21.8         No   \n",
      "1       1010.6       1007.8       NaN       NaN     17.2     24.3         No   \n",
      "2       1007.6       1008.7       NaN       2.0     21.0     23.2         No   \n",
      "3       1017.6       1012.8       NaN       NaN     18.1     26.5         No   \n",
      "4       1010.8       1006.0       7.0       8.0     17.8     29.7         No   \n",
      "\n",
      "   RainTomorrow  \n",
      "0            No  \n",
      "1            No  \n",
      "2            No  \n",
      "3            No  \n",
      "4            No  \n",
      "\n",
      "[5 rows x 23 columns]\n"
     ]
    }
   ],
   "source": [
    "print(rain.head())\n"
   ]
  },
  {
   "cell_type": "code",
   "execution_count": 4,
   "id": "4a7f54af",
   "metadata": {},
   "outputs": [
    {
     "name": "stdout",
     "output_type": "stream",
     "text": [
      "(8425, 23)\n"
     ]
    }
   ],
   "source": [
    "print(rain.shape)\n"
   ]
  },
  {
   "cell_type": "markdown",
   "id": "af93e563",
   "metadata": {},
   "source": [
    "Data Preprocessing:\n",
    "Real-world data is often messy, incomplete, unstructured, inconsistent, redundant, sprinkled with wacky values. So, without deploying any Data Preprocessing techniques, it is almost impossible to gain insights from raw data.\n",
    "\n",
    "# What exactly is Data Preprocessing?\n",
    "\n",
    "Data preprocessing is a process of converting raw data to a suitable format to extract insights. It is the first and foremost step in the Data Science life cycle. Data Preprocessing makes sure that data is clean, organize and read-to-feed to the Machine Learning model."
   ]
  },
  {
   "cell_type": "code",
   "execution_count": 5,
   "id": "5c577cbc",
   "metadata": {},
   "outputs": [
    {
     "name": "stdout",
     "output_type": "stream",
     "text": [
      "<class 'pandas.core.frame.DataFrame'>\n",
      "RangeIndex: 8425 entries, 0 to 8424\n",
      "Data columns (total 23 columns):\n",
      " #   Column         Non-Null Count  Dtype  \n",
      "---  ------         --------------  -----  \n",
      " 0   Date           8425 non-null   object \n",
      " 1   Location       8425 non-null   object \n",
      " 2   MinTemp        8350 non-null   float64\n",
      " 3   MaxTemp        8365 non-null   float64\n",
      " 4   Rainfall       8185 non-null   float64\n",
      " 5   Evaporation    4913 non-null   float64\n",
      " 6   Sunshine       4431 non-null   float64\n",
      " 7   WindGustDir    7434 non-null   object \n",
      " 8   WindGustSpeed  7434 non-null   float64\n",
      " 9   WindDir9am     7596 non-null   object \n",
      " 10  WindDir3pm     8117 non-null   object \n",
      " 11  WindSpeed9am   8349 non-null   float64\n",
      " 12  WindSpeed3pm   8318 non-null   float64\n",
      " 13  Humidity9am    8366 non-null   float64\n",
      " 14  Humidity3pm    8323 non-null   float64\n",
      " 15  Pressure9am    7116 non-null   float64\n",
      " 16  Pressure3pm    7113 non-null   float64\n",
      " 17  Cloud9am       6004 non-null   float64\n",
      " 18  Cloud3pm       5970 non-null   float64\n",
      " 19  Temp9am        8369 non-null   float64\n",
      " 20  Temp3pm        8329 non-null   float64\n",
      " 21  RainToday      8185 non-null   object \n",
      " 22  RainTomorrow   8186 non-null   object \n",
      "dtypes: float64(16), object(7)\n",
      "memory usage: 1.5+ MB\n",
      "None\n"
     ]
    }
   ],
   "source": [
    "print(rain.info())\n"
   ]
  },
  {
   "cell_type": "markdown",
   "id": "6b550152",
   "metadata": {},
   "source": [
    "Dataset has two data types: float64, object\n",
    "Except for the Date, Location columns, every column has missing values.\n",
    "Let’s generate descriptive statistics for the dataset using the function describe() in pandas.\n",
    "\n",
    "Descriptive Statistics: It is used to summarize and describe the features of data in a meaningful way to extract insights. It uses two types of statistic to describe or summarize data:\n",
    "\n",
    "Measures of tendency\n",
    "Measures of spread"
   ]
  },
  {
   "cell_type": "code",
   "execution_count": 6,
   "id": "d25045a6",
   "metadata": {},
   "outputs": [
    {
     "name": "stdout",
     "output_type": "stream",
     "text": [
      "           MinTemp      MaxTemp     Rainfall  Evaporation     Sunshine  \\\n",
      "count  8350.000000  8365.000000  8185.000000  4913.000000  4431.000000   \n",
      "mean     13.193305    23.859976     2.805913     5.389395     7.632205   \n",
      "std       5.403596     6.136408    10.459379     5.044484     3.896235   \n",
      "min      -2.000000     8.200000     0.000000     0.000000     0.000000   \n",
      "25%       9.200000    19.300000     0.000000     2.600000     4.750000   \n",
      "50%      13.300000    23.300000     0.000000     4.600000     8.700000   \n",
      "75%      17.400000    28.000000     1.000000     7.000000    10.700000   \n",
      "max      28.500000    45.500000   371.000000   145.000000    13.900000   \n",
      "\n",
      "       WindGustSpeed  WindSpeed9am  WindSpeed3pm  Humidity9am  Humidity3pm  \\\n",
      "count    7434.000000   8349.000000   8318.000000  8366.000000  8323.000000   \n",
      "mean       40.174469     13.847646     18.533662    67.822496    51.249790   \n",
      "std        14.665721     10.174579      9.766986    16.833283    18.423774   \n",
      "min         7.000000      0.000000      0.000000    10.000000     6.000000   \n",
      "25%        30.000000      6.000000     11.000000    56.000000    39.000000   \n",
      "50%        39.000000     13.000000     19.000000    68.000000    51.000000   \n",
      "75%        50.000000     20.000000     24.000000    80.000000    63.000000   \n",
      "max       107.000000     63.000000     83.000000   100.000000    99.000000   \n",
      "\n",
      "       Pressure9am  Pressure3pm     Cloud9am     Cloud3pm      Temp9am  \\\n",
      "count  7116.000000  7113.000000  6004.000000  5970.000000  8369.000000   \n",
      "mean   1017.640233  1015.236075     4.566622     4.503183    17.762015   \n",
      "std       6.828699     6.766681     2.877658     2.731659     5.627035   \n",
      "min     989.800000   982.900000     0.000000     0.000000     1.900000   \n",
      "25%    1013.000000  1010.400000     1.000000     2.000000    13.800000   \n",
      "50%    1017.700000  1015.300000     5.000000     5.000000    17.800000   \n",
      "75%    1022.300000  1019.800000     7.000000     7.000000    21.900000   \n",
      "max    1039.000000  1036.000000     8.000000     8.000000    39.400000   \n",
      "\n",
      "           Temp3pm  \n",
      "count  8329.000000  \n",
      "mean     22.442934  \n",
      "std       5.980020  \n",
      "min       7.300000  \n",
      "25%      18.000000  \n",
      "50%      21.900000  \n",
      "75%      26.400000  \n",
      "max      44.100000  \n"
     ]
    }
   ],
   "source": [
    "print(rain.describe(exclude=[object]))\n"
   ]
  },
  {
   "cell_type": "code",
   "execution_count": 7,
   "id": "6f8655a7",
   "metadata": {},
   "outputs": [
    {
     "name": "stdout",
     "output_type": "stream",
     "text": [
      "              Date   Location WindGustDir WindDir9am WindDir3pm RainToday  \\\n",
      "count         8425       8425        7434       7596       8117      8185   \n",
      "unique        3004         12          16         16         16         2   \n",
      "top     2011-01-31  Melbourne           N          N         SE        No   \n",
      "freq             5       1622         713        906        813      6195   \n",
      "\n",
      "       RainTomorrow  \n",
      "count          8186  \n",
      "unique            2  \n",
      "top              No  \n",
      "freq           6195  \n"
     ]
    }
   ],
   "source": [
    "print(rain.describe(include=[object]))\n"
   ]
  },
  {
   "cell_type": "markdown",
   "id": "76a3a85d",
   "metadata": {},
   "source": [
    "Finding Categorical and Numerical Features in a Data set:\n"
   ]
  },
  {
   "cell_type": "code",
   "execution_count": 9,
   "id": "9b98bc11",
   "metadata": {},
   "outputs": [
    {
     "name": "stdout",
     "output_type": "stream",
     "text": [
      "Number of Categorical Features: 7\n",
      "Categorical Features:  ['Date', 'Location', 'WindGustDir', 'WindDir9am', 'WindDir3pm', 'RainToday', 'RainTomorrow']\n"
     ]
    }
   ],
   "source": [
    "categorical_features = [column_name for column_name in rain.columns if rain[column_name].dtype == 'O']\n",
    "print(\"Number of Categorical Features: {}\".format(len(categorical_features)))\n",
    "print(\"Categorical Features: \",categorical_features)"
   ]
  },
  {
   "cell_type": "code",
   "execution_count": 10,
   "id": "6cbfda1f",
   "metadata": {},
   "outputs": [
    {
     "name": "stdout",
     "output_type": "stream",
     "text": [
      "Number of Numerical Features: 16\n",
      "Numerical Features:  ['MinTemp', 'MaxTemp', 'Rainfall', 'Evaporation', 'Sunshine', 'WindGustSpeed', 'WindSpeed9am', 'WindSpeed3pm', 'Humidity9am', 'Humidity3pm', 'Pressure9am', 'Pressure3pm', 'Cloud9am', 'Cloud3pm', 'Temp9am', 'Temp3pm']\n"
     ]
    }
   ],
   "source": [
    "numerical_features = [column_name for column_name in rain.columns if rain[column_name].dtype != 'O']\n",
    "print(\"Number of Numerical Features: {}\".format(len(numerical_features)))\n",
    "print(\"Numerical Features: \",numerical_features)"
   ]
  },
  {
   "cell_type": "markdown",
   "id": "4c9fac4d",
   "metadata": {},
   "source": [
    "Cardinality check for Categorical features:\n",
    "\n",
    "\n",
    "The accuracy, performance of a classifier not only depends on the model that we use, but also depends on how we preprocess data, and what kind of data you’re feeding to the classifier to learn.\n",
    "Many Machine learning algorithms like Linear Regression, Logistic Regression, k-nearest neighbors, etc. can handle only numerical data, so encoding categorical data to numeric becomes a necessary step.  But before jumping into encoding, check the cardinality of each categorical feature.\n",
    "Cardinality: The number of unique values in each categorical feature is known as cardinality.\n",
    "A feature with a high number of distinct/ unique values is a high cardinality feature. A categorical feature with hundreds of zip codes is the best example of a high cardinality feature.\n",
    "This high cardinality feature poses many serious problems like it will increase the number of dimensions of data when that feature is encoded. This is not good for the model.\n",
    "There are many ways to handle high cardinality, one would be feature engineering and the other is simply dropping that feature if it doesn’t add any value to the model.\n",
    "Let’s find the cardinality for Categorical features:"
   ]
  },
  {
   "cell_type": "code",
   "execution_count": 11,
   "id": "ce86eba8",
   "metadata": {},
   "outputs": [
    {
     "name": "stdout",
     "output_type": "stream",
     "text": [
      "Cardinality(no. of unique values) of Date are: 3004\n",
      "Cardinality(no. of unique values) of Location are: 12\n",
      "Cardinality(no. of unique values) of WindGustDir are: 17\n",
      "Cardinality(no. of unique values) of WindDir9am are: 17\n",
      "Cardinality(no. of unique values) of WindDir3pm are: 17\n",
      "Cardinality(no. of unique values) of RainToday are: 3\n",
      "Cardinality(no. of unique values) of RainTomorrow are: 3\n"
     ]
    }
   ],
   "source": [
    "for each_feature in categorical_features:\n",
    "   unique_values = len(rain[each_feature].unique())\n",
    "   print(\"Cardinality(no. of unique values) of {} are: {}\".format(each_feature, unique_values))"
   ]
  },
  {
   "cell_type": "markdown",
   "id": "a9c43c4c",
   "metadata": {},
   "source": [
    "Date column has high cardinality which poses several problems to the model in terms of efficiency and also dimensions of data increase when encoded to numerical data.\n",
    "\n"
   ]
  },
  {
   "cell_type": "code",
   "execution_count": 12,
   "id": "9b9da264",
   "metadata": {},
   "outputs": [],
   "source": [
    "rain['Date'] = pd.to_datetime(rain['Date'])\n",
    "rain['year'] = rain['Date'].dt.year\n",
    "rain['month'] = rain['Date'].dt.month\n",
    "rain['day'] = rain['Date'].dt.day"
   ]
  },
  {
   "cell_type": "code",
   "execution_count": 13,
   "id": "007e5159",
   "metadata": {},
   "outputs": [
    {
     "data": {
      "text/html": [
       "<div>\n",
       "<style scoped>\n",
       "    .dataframe tbody tr th:only-of-type {\n",
       "        vertical-align: middle;\n",
       "    }\n",
       "\n",
       "    .dataframe tbody tr th {\n",
       "        vertical-align: top;\n",
       "    }\n",
       "\n",
       "    .dataframe thead th {\n",
       "        text-align: right;\n",
       "    }\n",
       "</style>\n",
       "<table border=\"1\" class=\"dataframe\">\n",
       "  <thead>\n",
       "    <tr style=\"text-align: right;\">\n",
       "      <th></th>\n",
       "      <th>Location</th>\n",
       "      <th>MinTemp</th>\n",
       "      <th>MaxTemp</th>\n",
       "      <th>Rainfall</th>\n",
       "      <th>Evaporation</th>\n",
       "      <th>Sunshine</th>\n",
       "      <th>WindGustDir</th>\n",
       "      <th>WindGustSpeed</th>\n",
       "      <th>WindDir9am</th>\n",
       "      <th>WindDir3pm</th>\n",
       "      <th>...</th>\n",
       "      <th>Pressure3pm</th>\n",
       "      <th>Cloud9am</th>\n",
       "      <th>Cloud3pm</th>\n",
       "      <th>Temp9am</th>\n",
       "      <th>Temp3pm</th>\n",
       "      <th>RainToday</th>\n",
       "      <th>RainTomorrow</th>\n",
       "      <th>year</th>\n",
       "      <th>month</th>\n",
       "      <th>day</th>\n",
       "    </tr>\n",
       "  </thead>\n",
       "  <tbody>\n",
       "    <tr>\n",
       "      <th>0</th>\n",
       "      <td>Albury</td>\n",
       "      <td>13.4</td>\n",
       "      <td>22.9</td>\n",
       "      <td>0.6</td>\n",
       "      <td>NaN</td>\n",
       "      <td>NaN</td>\n",
       "      <td>W</td>\n",
       "      <td>44.0</td>\n",
       "      <td>W</td>\n",
       "      <td>WNW</td>\n",
       "      <td>...</td>\n",
       "      <td>1007.1</td>\n",
       "      <td>8.0</td>\n",
       "      <td>NaN</td>\n",
       "      <td>16.9</td>\n",
       "      <td>21.8</td>\n",
       "      <td>No</td>\n",
       "      <td>No</td>\n",
       "      <td>2008</td>\n",
       "      <td>12</td>\n",
       "      <td>1</td>\n",
       "    </tr>\n",
       "    <tr>\n",
       "      <th>1</th>\n",
       "      <td>Albury</td>\n",
       "      <td>7.4</td>\n",
       "      <td>25.1</td>\n",
       "      <td>0.0</td>\n",
       "      <td>NaN</td>\n",
       "      <td>NaN</td>\n",
       "      <td>WNW</td>\n",
       "      <td>44.0</td>\n",
       "      <td>NNW</td>\n",
       "      <td>WSW</td>\n",
       "      <td>...</td>\n",
       "      <td>1007.8</td>\n",
       "      <td>NaN</td>\n",
       "      <td>NaN</td>\n",
       "      <td>17.2</td>\n",
       "      <td>24.3</td>\n",
       "      <td>No</td>\n",
       "      <td>No</td>\n",
       "      <td>2008</td>\n",
       "      <td>12</td>\n",
       "      <td>2</td>\n",
       "    </tr>\n",
       "    <tr>\n",
       "      <th>2</th>\n",
       "      <td>Albury</td>\n",
       "      <td>12.9</td>\n",
       "      <td>25.7</td>\n",
       "      <td>0.0</td>\n",
       "      <td>NaN</td>\n",
       "      <td>NaN</td>\n",
       "      <td>WSW</td>\n",
       "      <td>46.0</td>\n",
       "      <td>W</td>\n",
       "      <td>WSW</td>\n",
       "      <td>...</td>\n",
       "      <td>1008.7</td>\n",
       "      <td>NaN</td>\n",
       "      <td>2.0</td>\n",
       "      <td>21.0</td>\n",
       "      <td>23.2</td>\n",
       "      <td>No</td>\n",
       "      <td>No</td>\n",
       "      <td>2008</td>\n",
       "      <td>12</td>\n",
       "      <td>3</td>\n",
       "    </tr>\n",
       "    <tr>\n",
       "      <th>3</th>\n",
       "      <td>Albury</td>\n",
       "      <td>9.2</td>\n",
       "      <td>28.0</td>\n",
       "      <td>0.0</td>\n",
       "      <td>NaN</td>\n",
       "      <td>NaN</td>\n",
       "      <td>NE</td>\n",
       "      <td>24.0</td>\n",
       "      <td>SE</td>\n",
       "      <td>E</td>\n",
       "      <td>...</td>\n",
       "      <td>1012.8</td>\n",
       "      <td>NaN</td>\n",
       "      <td>NaN</td>\n",
       "      <td>18.1</td>\n",
       "      <td>26.5</td>\n",
       "      <td>No</td>\n",
       "      <td>No</td>\n",
       "      <td>2008</td>\n",
       "      <td>12</td>\n",
       "      <td>4</td>\n",
       "    </tr>\n",
       "    <tr>\n",
       "      <th>4</th>\n",
       "      <td>Albury</td>\n",
       "      <td>17.5</td>\n",
       "      <td>32.3</td>\n",
       "      <td>1.0</td>\n",
       "      <td>NaN</td>\n",
       "      <td>NaN</td>\n",
       "      <td>W</td>\n",
       "      <td>41.0</td>\n",
       "      <td>ENE</td>\n",
       "      <td>NW</td>\n",
       "      <td>...</td>\n",
       "      <td>1006.0</td>\n",
       "      <td>7.0</td>\n",
       "      <td>8.0</td>\n",
       "      <td>17.8</td>\n",
       "      <td>29.7</td>\n",
       "      <td>No</td>\n",
       "      <td>No</td>\n",
       "      <td>2008</td>\n",
       "      <td>12</td>\n",
       "      <td>5</td>\n",
       "    </tr>\n",
       "  </tbody>\n",
       "</table>\n",
       "<p>5 rows × 25 columns</p>\n",
       "</div>"
      ],
      "text/plain": [
       "  Location  MinTemp  MaxTemp  Rainfall  Evaporation  Sunshine WindGustDir  \\\n",
       "0   Albury     13.4     22.9       0.6          NaN       NaN           W   \n",
       "1   Albury      7.4     25.1       0.0          NaN       NaN         WNW   \n",
       "2   Albury     12.9     25.7       0.0          NaN       NaN         WSW   \n",
       "3   Albury      9.2     28.0       0.0          NaN       NaN          NE   \n",
       "4   Albury     17.5     32.3       1.0          NaN       NaN           W   \n",
       "\n",
       "   WindGustSpeed WindDir9am WindDir3pm  ...  Pressure3pm  Cloud9am  Cloud3pm  \\\n",
       "0           44.0          W        WNW  ...       1007.1       8.0       NaN   \n",
       "1           44.0        NNW        WSW  ...       1007.8       NaN       NaN   \n",
       "2           46.0          W        WSW  ...       1008.7       NaN       2.0   \n",
       "3           24.0         SE          E  ...       1012.8       NaN       NaN   \n",
       "4           41.0        ENE         NW  ...       1006.0       7.0       8.0   \n",
       "\n",
       "   Temp9am  Temp3pm  RainToday  RainTomorrow  year  month  day  \n",
       "0     16.9     21.8         No            No  2008     12    1  \n",
       "1     17.2     24.3         No            No  2008     12    2  \n",
       "2     21.0     23.2         No            No  2008     12    3  \n",
       "3     18.1     26.5         No            No  2008     12    4  \n",
       "4     17.8     29.7         No            No  2008     12    5  \n",
       "\n",
       "[5 rows x 25 columns]"
      ]
     },
     "execution_count": 13,
     "metadata": {},
     "output_type": "execute_result"
    }
   ],
   "source": [
    "rain.drop('Date', axis = 1, inplace = True)\n",
    "rain.head()"
   ]
  },
  {
   "cell_type": "markdown",
   "id": "afb4799a",
   "metadata": {},
   "source": [
    "# Handling Missing values in Categorical Features:\n",
    "\n"
   ]
  },
  {
   "cell_type": "code",
   "execution_count": 14,
   "id": "1cc3dc4c",
   "metadata": {},
   "outputs": [
    {
     "data": {
      "text/plain": [
       "Location          0\n",
       "WindGustDir     991\n",
       "WindDir9am      829\n",
       "WindDir3pm      308\n",
       "RainToday       240\n",
       "RainTomorrow    239\n",
       "dtype: int64"
      ]
     },
     "execution_count": 14,
     "metadata": {},
     "output_type": "execute_result"
    }
   ],
   "source": [
    "categorical_features = [column_name for column_name in rain.columns if rain[column_name].dtype == 'O']\n",
    "rain[categorical_features].isnull().sum()"
   ]
  },
  {
   "cell_type": "code",
   "execution_count": 16,
   "id": "323116f7",
   "metadata": {},
   "outputs": [],
   "source": [
    "# Imputing the missing values in categorical features using the most frequent value which is mode:\n"
   ]
  },
  {
   "cell_type": "code",
   "execution_count": 17,
   "id": "e130a8d4",
   "metadata": {},
   "outputs": [],
   "source": [
    "categorical_features_with_null = [feature for feature in categorical_features if rain[feature].isnull().sum()]\n",
    "for each_feature in categorical_features_with_null:\n",
    "    mode_val = rain[each_feature].mode()[0]\n",
    "    rain[each_feature].fillna(mode_val,inplace=True)"
   ]
  },
  {
   "cell_type": "code",
   "execution_count": 18,
   "id": "8fd17b92",
   "metadata": {},
   "outputs": [
    {
     "data": {
      "text/plain": [
       "MinTemp            75\n",
       "MaxTemp            60\n",
       "Rainfall          240\n",
       "Evaporation      3512\n",
       "Sunshine         3994\n",
       "WindGustSpeed     991\n",
       "WindSpeed9am       76\n",
       "WindSpeed3pm      107\n",
       "Humidity9am        59\n",
       "Humidity3pm       102\n",
       "Pressure9am      1309\n",
       "Pressure3pm      1312\n",
       "Cloud9am         2421\n",
       "Cloud3pm         2455\n",
       "Temp9am            56\n",
       "Temp3pm            96\n",
       "year                0\n",
       "month               0\n",
       "day                 0\n",
       "dtype: int64"
      ]
     },
     "execution_count": 18,
     "metadata": {},
     "output_type": "execute_result"
    }
   ],
   "source": [
    "numerical_features = [column_name for column_name in rain.columns if rain[column_name].dtype != 'O']\n",
    "rain[numerical_features].isnull().sum()"
   ]
  },
  {
   "cell_type": "code",
   "execution_count": 19,
   "id": "d1abf2b1",
   "metadata": {},
   "outputs": [],
   "source": [
    "# Outlier Treatment to remove outliers from Numerical Features:"
   ]
  },
  {
   "cell_type": "code",
   "execution_count": 21,
   "id": "7f7c8f71",
   "metadata": {},
   "outputs": [],
   "source": [
    "features_with_outliers = ['MinTemp', 'MaxTemp', 'Rainfall', 'Evaporation', 'WindGustSpeed','WindSpeed9am', 'WindSpeed3pm', 'Humidity9am', 'Pressure9am', 'Pressure3pm', 'Temp9am', 'Temp3pm']\n",
    "for feature in features_with_outliers:\n",
    "    q1 = rain[feature].quantile(0.25)\n",
    "    q3 = rain[feature].quantile(0.75)\n",
    "    IQR = q3-q1\n",
    "    lower_limit = q1 - (IQR*1.5)\n",
    "    upper_limit = q3 + (IQR*1.5)\n",
    "    rain.loc[rain[feature]<lower_limit,feature] = lower_limit\n",
    "    rain.loc[rain[feature]>upper_limit,feature] = upper_limit"
   ]
  },
  {
   "cell_type": "markdown",
   "id": "0985897d",
   "metadata": {},
   "source": [
    "Now, numerical features are free from outliers. Let’s Impute missing values in numerical features using mean.\n",
    "\n"
   ]
  },
  {
   "cell_type": "code",
   "execution_count": 22,
   "id": "bce6b9fa",
   "metadata": {},
   "outputs": [],
   "source": [
    "numerical_features_with_null = [feature for feature in numerical_features if rain[feature].isnull().sum()]\n",
    "for feature in numerical_features_with_null:\n",
    "    mean_value = rain[feature].mean()\n",
    "    rain[feature].fillna(mean_value,inplace=True)"
   ]
  },
  {
   "cell_type": "markdown",
   "id": "3e5f23d5",
   "metadata": {},
   "source": [
    "It’s time to do some analysis on each feature to understand about data and get some insights."
   ]
  },
  {
   "cell_type": "markdown",
   "id": "eb297179",
   "metadata": {},
   "source": [
    "# Exploratory Data Analysis:\n",
    "\n",
    "Exploratory Data Analysis(EDA) is a technique used to analyze, visualize, investigate, interpret, discover and summarize data. It helps Data Scientists to extract trends, patterns, and relationships in data.\n",
    "\n",
    "1. Univariate Analysis:\n",
    "\n",
    "a) Exploring target variable:"
   ]
  },
  {
   "cell_type": "code",
   "execution_count": 23,
   "id": "5e4d1b45",
   "metadata": {},
   "outputs": [
    {
     "data": {
      "text/plain": [
       "<AxesSubplot:>"
      ]
     },
     "execution_count": 23,
     "metadata": {},
     "output_type": "execute_result"
    },
    {
     "data": {
      "image/png": "[encoded data removed]",
      "text/plain": [
       "<Figure size 432x288 with 1 Axes>"
      ]
     },
     "metadata": {
      "needs_background": "light"
     },
     "output_type": "display_data"
    }
   ],
   "source": [
    "rain['RainTomorrow'].value_counts().plot(kind='bar')\n"
   ]
  },
  {
   "cell_type": "markdown",
   "id": "7f26fc4a",
   "metadata": {},
   "source": [
    "Looks like the Target variable is imbalanced. It has more ‘No’ values. If data is imbalanced, then it might decrease the performance of the model. As this data is released by the meteorological department of Australia, it doesn’t make any sense when we try to balance the target variable, because the truthfulness of data might decrease. So, let me keep it as it is."
   ]
  },
  {
   "cell_type": "markdown",
   "id": "f9223aca",
   "metadata": {},
   "source": [
    "2. Bi-variate Analysis:\n",
    "\n",
    "a) Sunshine vs Rainfall:"
   ]
  },
  {
   "cell_type": "code",
   "execution_count": 24,
   "id": "3510a786",
   "metadata": {},
   "outputs": [
    {
     "data": {
      "text/plain": [
       "<AxesSubplot:xlabel='Sunshine', ylabel='Rainfall'>"
      ]
     },
     "execution_count": 24,
     "metadata": {},
     "output_type": "execute_result"
    },
    {
     "data": {
      "image/png": "[encoded data removed]",
      "text/plain": [
       "<Figure size 432x288 with 1 Axes>"
      ]
     },
     "metadata": {
      "needs_background": "light"
     },
     "output_type": "display_data"
    }
   ],
   "source": [
    "sns.lineplot(data=rain,x='Sunshine',y='Rainfall',color='green')\n"
   ]
  },
  {
   "cell_type": "markdown",
   "id": "5779abdb",
   "metadata": {},
   "source": [
    "In the above line plot, the Sunshine feature is inversely proportional to the Rainfall feature."
   ]
  },
  {
   "cell_type": "markdown",
   "id": "e2c35a8f",
   "metadata": {},
   "source": [
    "b) Sunshine vs Evaporation:"
   ]
  },
  {
   "cell_type": "code",
   "execution_count": 25,
   "id": "34484d1a",
   "metadata": {},
   "outputs": [
    {
     "data": {
      "text/plain": [
       "<AxesSubplot:xlabel='Sunshine', ylabel='Evaporation'>"
      ]
     },
     "execution_count": 25,
     "metadata": {},
     "output_type": "execute_result"
    },
    {
     "data": {
      "image/png": "[encoded data removed]",
      "text/plain": [
       "<Figure size 432x288 with 1 Axes>"
      ]
     },
     "metadata": {
      "needs_background": "light"
     },
     "output_type": "display_data"
    }
   ],
   "source": [
    "sns.lineplot(data=rain,x='Sunshine',y='Evaporation',color='blue')\n"
   ]
  },
  {
   "cell_type": "markdown",
   "id": "4511ff6f",
   "metadata": {},
   "source": [
    "In the above line plot, the Sunshine feature is proportional to the Evaporation feature.\n",
    "\n"
   ]
  },
  {
   "cell_type": "markdown",
   "id": "75b3d135",
   "metadata": {},
   "source": [
    "# Correlation: "
   ]
  },
  {
   "cell_type": "code",
   "execution_count": 27,
   "id": "b33be659",
   "metadata": {},
   "outputs": [
    {
     "data": {
      "text/plain": [
       "<AxesSubplot:>"
      ]
     },
     "execution_count": 27,
     "metadata": {},
     "output_type": "execute_result"
    },
    {
     "data": {
      "image/png": "[encoded data removed]",
      "text/plain": [
       "<Figure size 1440x1440 with 2 Axes>"
      ]
     },
     "metadata": {
      "needs_background": "light"
     },
     "output_type": "display_data"
    }
   ],
   "source": [
    "plt.figure(figsize=(20,20))\n",
    "sns.heatmap(rain.corr(), linewidths=0.5, annot=False, fmt=\".2f\", cmap = 'viridis')"
   ]
  },
  {
   "cell_type": "code",
   "execution_count": 28,
   "id": "4a4a59ea",
   "metadata": {},
   "outputs": [],
   "source": [
    "# Splitting data into Independent Features and Dependent Features:\n",
    "\n",
    "X = rain.drop(['RainTomorrow'],axis=1)\n",
    "y = rain['RainTomorrow']"
   ]
  },
  {
   "cell_type": "code",
   "execution_count": 29,
   "id": "0b57bc56",
   "metadata": {},
   "outputs": [
    {
     "data": {
      "text/plain": [
       "array([0.02525588, 0.02754517, 0.02878517, 0.04264188, 0.02370495,\n",
       "       0.03996708, 0.02965041, 0.05883236, 0.03138337, 0.03485217,\n",
       "       0.03230727, 0.03533697, 0.04006834, 0.18242923, 0.02966456,\n",
       "       0.03651809, 0.02824431, 0.06733108, 0.02711056, 0.02895213,\n",
       "       0.05517227, 0.03027136, 0.02915467, 0.03482072])"
      ]
     },
     "execution_count": 29,
     "metadata": {},
     "output_type": "execute_result"
    }
   ],
   "source": [
    "from sklearn.ensemble import ExtraTreesRegressor\n",
    "etr_model = ExtraTreesRegressor()\n",
    "etr_model.fit(X,y)\n",
    "etr_model.feature_importances_\n"
   ]
  },
  {
   "cell_type": "code",
   "execution_count": 30,
   "id": "8d55f740",
   "metadata": {},
   "outputs": [
    {
     "data": {
      "text/plain": [
       "<AxesSubplot:>"
      ]
     },
     "execution_count": 30,
     "metadata": {},
     "output_type": "execute_result"
    },
    {
     "data": {
      "image/png": "[encoded data removed]",
      "text/plain": [
       "<Figure size 432x288 with 1 Axes>"
      ]
     },
     "metadata": {
      "needs_background": "light"
     },
     "output_type": "display_data"
    }
   ],
   "source": [
    "feature_imp = pd.Series(etr_model.feature_importances_,index=X.columns)\n",
    "feature_imp.nlargest(10).plot(kind='barh')"
   ]
  },
  {
   "cell_type": "markdown",
   "id": "c5fcc6d5",
   "metadata": {},
   "source": [
    "Splitting Data into training and testing set:\n"
   ]
  },
  {
   "cell_type": "code",
   "execution_count": 31,
   "id": "28539c0d",
   "metadata": {},
   "outputs": [],
   "source": [
    "from sklearn.model_selection import train_test_split\n",
    "X_train, X_test, y_train, y_test = train_test_split(X,y, test_size = 0.2, random_state = 0)"
   ]
  },
  {
   "cell_type": "code",
   "execution_count": 32,
   "id": "565ea1dd",
   "metadata": {},
   "outputs": [
    {
     "name": "stdout",
     "output_type": "stream",
     "text": [
      "Length of Training Data: 6740\n",
      "Length of Testing Data: 1685\n"
     ]
    }
   ],
   "source": [
    "print(\"Length of Training Data: {}\".format(len(X_train)))\n",
    "print(\"Length of Testing Data: {}\".format(len(X_test)))"
   ]
  },
  {
   "cell_type": "code",
   "execution_count": 33,
   "id": "a69c0904",
   "metadata": {},
   "outputs": [],
   "source": [
    "from sklearn.preprocessing import StandardScaler\n",
    "scaler = StandardScaler()\n",
    "X_train = scaler.fit_transform(X_train)"
   ]
  },
  {
   "cell_type": "code",
   "execution_count": 34,
   "id": "5bb987f9",
   "metadata": {},
   "outputs": [],
   "source": [
    "X_test = scaler.transform(X_test)\n"
   ]
  },
  {
   "cell_type": "code",
   "execution_count": 35,
   "id": "afd5b8fc",
   "metadata": {},
   "outputs": [
    {
     "data": {
      "text/html": [
       "<style>#sk-container-id-1 {color: black;background-color: white;}#sk-container-id-1 pre{padding: 0;}#sk-container-id-1 div.sk-toggleable {background-color: white;}#sk-container-id-1 label.sk-toggleable__label {cursor: pointer;display: block;width: 100%;margin-bottom: 0;padding: 0.3em;box-sizing: border-box;text-align: center;}#sk-container-id-1 label.sk-toggleable__label-arrow:before {content: \"▸\";float: left;margin-right: 0.25em;color: #696969;}#sk-container-id-1 label.sk-toggleable__label-arrow:hover:before {color: black;}#sk-container-id-1 div.sk-estimator:hover label.sk-toggleable__label-arrow:before {color: black;}#sk-container-id-1 div.sk-toggleable__content {max-height: 0;max-width: 0;overflow: hidden;text-align: left;background-color: #f0f8ff;}#sk-container-id-1 div.sk-toggleable__content pre {margin: 0.2em;color: black;border-radius: 0.25em;background-color: #f0f8ff;}#sk-container-id-1 input.sk-toggleable__control:checked~div.sk-toggleable__content {max-height: 200px;max-width: 100%;overflow: auto;}#sk-container-id-1 input.sk-toggleable__control:checked~label.sk-toggleable__label-arrow:before {content: \"▾\";}#sk-container-id-1 div.sk-estimator input.sk-toggleable__control:checked~label.sk-toggleable__label {background-color: #d4ebff;}#sk-container-id-1 div.sk-label input.sk-toggleable__control:checked~label.sk-toggleable__label {background-color: #d4ebff;}#sk-container-id-1 input.sk-hidden--visually {border: 0;clip: rect(1px 1px 1px 1px);clip: rect(1px, 1px, 1px, 1px);height: 1px;margin: -1px;overflow: hidden;padding: 0;position: absolute;width: 1px;}#sk-container-id-1 div.sk-estimator {font-family: monospace;background-color: #f0f8ff;border: 1px dotted black;border-radius: 0.25em;box-sizing: border-box;margin-bottom: 0.5em;}#sk-container-id-1 div.sk-estimator:hover {background-color: #d4ebff;}#sk-container-id-1 div.sk-parallel-item::after {content: \"\";width: 100%;border-bottom: 1px solid gray;flex-grow: 1;}#sk-container-id-1 div.sk-label:hover label.sk-toggleable__label {background-color: #d4ebff;}#sk-container-id-1 div.sk-serial::before {content: \"\";position: absolute;border-left: 1px solid gray;box-sizing: border-box;top: 0;bottom: 0;left: 50%;z-index: 0;}#sk-container-id-1 div.sk-serial {display: flex;flex-direction: column;align-items: center;background-color: white;padding-right: 0.2em;padding-left: 0.2em;position: relative;}#sk-container-id-1 div.sk-item {position: relative;z-index: 1;}#sk-container-id-1 div.sk-parallel {display: flex;align-items: stretch;justify-content: center;background-color: white;position: relative;}#sk-container-id-1 div.sk-item::before, #sk-container-id-1 div.sk-parallel-item::before {content: \"\";position: absolute;border-left: 1px solid gray;box-sizing: border-box;top: 0;bottom: 0;left: 50%;z-index: -1;}#sk-container-id-1 div.sk-parallel-item {display: flex;flex-direction: column;z-index: 1;position: relative;background-color: white;}#sk-container-id-1 div.sk-parallel-item:first-child::after {align-self: flex-end;width: 50%;}#sk-container-id-1 div.sk-parallel-item:last-child::after {align-self: flex-start;width: 50%;}#sk-container-id-1 div.sk-parallel-item:only-child::after {width: 0;}#sk-container-id-1 div.sk-dashed-wrapped {border: 1px dashed gray;margin: 0 0.4em 0.5em 0.4em;box-sizing: border-box;padding-bottom: 0.4em;background-color: white;}#sk-container-id-1 div.sk-label label {font-family: monospace;font-weight: bold;display: inline-block;line-height: 1.2em;}#sk-container-id-1 div.sk-label-container {text-align: center;}#sk-container-id-1 div.sk-container {/* jupyter's `normalize.less` sets `[hidden] { display: none; }` but bootstrap.min.css set `[hidden] { display: none !important; }` so we also need the `!important` here to be able to override the default hidden behavior on the sphinx rendered scikit-learn.org. See: https://github.com/scikit-learn/scikit-learn/issues/21755 */display: inline-block !important;position: relative;}#sk-container-id-1 div.sk-text-repr-fallback {display: none;}</style><div id=\"sk-container-id-1\" class=\"sk-top-container\"><div class=\"sk-text-repr-fallback\"><pre>LogisticRegression(random_state=0, solver=&#x27;liblinear&#x27;)</pre><b>In a Jupyter environment, please rerun this cell to show the HTML representation or trust the notebook. <br />On GitHub, the HTML representation is unable to render, please try loading this page with nbviewer.org.</b></div><div class=\"sk-container\" hidden><div class=\"sk-item\"><div class=\"sk-estimator sk-toggleable\"><input class=\"sk-toggleable__control sk-hidden--visually\" id=\"sk-estimator-id-1\" type=\"checkbox\" checked><label for=\"sk-estimator-id-1\" class=\"sk-toggleable__label sk-toggleable__label-arrow\">LogisticRegression</label><div class=\"sk-toggleable__content\"><pre>LogisticRegression(random_state=0, solver=&#x27;liblinear&#x27;)</pre></div></div></div></div></div>"
      ],
      "text/plain": [
       "LogisticRegression(random_state=0, solver='liblinear')"
      ]
     },
     "execution_count": 35,
     "metadata": {},
     "output_type": "execute_result"
    }
   ],
   "source": [
    "from sklearn.linear_model import LogisticRegression\n",
    "classifier_logreg = LogisticRegression(solver='liblinear', random_state=0)\n",
    "classifier_logreg.fit(X_train, y_train)"
   ]
  },
  {
   "cell_type": "code",
   "execution_count": 36,
   "id": "05a149cf",
   "metadata": {},
   "outputs": [
    {
     "data": {
      "text/plain": [
       "array([0, 0, 0, ..., 0, 0, 0], dtype=int64)"
      ]
     },
     "execution_count": 36,
     "metadata": {},
     "output_type": "execute_result"
    }
   ],
   "source": [
    "y_pred = classifier_logreg.predict(X_test)\n",
    "y_pred\n"
   ]
  },
  {
   "cell_type": "code",
   "execution_count": 37,
   "id": "5b6de2e4",
   "metadata": {},
   "outputs": [
    {
     "name": "stdout",
     "output_type": "stream",
     "text": [
      "Accuracy Score: 0.8367952522255193\n"
     ]
    }
   ],
   "source": [
    "# Evaluating Model Performance:\n",
    "from sklearn.metrics import accuracy_score\n",
    "print(\"Accuracy Score: {}\".format(accuracy_score(y_test,y_pred)))"
   ]
  },
  {
   "cell_type": "code",
   "execution_count": 38,
   "id": "3c7d6323",
   "metadata": {},
   "outputs": [
    {
     "name": "stdout",
     "output_type": "stream",
     "text": [
      "Train Data Score: 0.8302670623145401\n",
      "Test Data Score: 0.8367952522255193\n"
     ]
    }
   ],
   "source": [
    "print(\"Train Data Score: {}\".format(classifier_logreg.score(X_train, y_train)))\n",
    "print(\"Test Data Score: {}\".format(classifier_logreg.score(X_test, y_test)))"
   ]
  },
  {
   "cell_type": "markdown",
   "id": "2dac968f",
   "metadata": {},
   "source": [
    "# Receiver operating characteristic(ROC) curve:\n",
    "\n",
    "The ROC curve is an evaluation metric used in binary classification problems to know the performance of the classifier.\n",
    "It is a curve plotted between True Positive Rate(TPR) and False Positive Rate(FPR) at various thresholds.\n",
    "ROC graph summarizes all the confusion matrices produced at different threshold values.\n",
    "ROC curve is used to determine which threshold value is best for Logistic Regression in order to classify classes."
   ]
  },
  {
   "cell_type": "code",
   "execution_count": 41,
   "id": "0d335126",
   "metadata": {},
   "outputs": [
    {
     "data": {
      "image/png": "[encoded data removed]",
      "text/plain": [
       "<Figure size 432x288 with 1 Axes>"
      ]
     },
     "metadata": {
      "needs_background": "light"
     },
     "output_type": "display_data"
    }
   ],
   "source": [
    "y_pred_logreg_proba = classifier_logreg.predict_proba(X_test)\n",
    "from sklearn.metrics import roc_curve\n",
    "fpr, tpr, thresholds = roc_curve(y_test, y_pred_logreg_proba[:,1])\n",
    "plt.figure(figsize=(6,4))\n",
    "plt.plot(fpr,tpr,'-g',linewidth=1)\n",
    "plt.plot([0,1], [0,1], 'k--' )\n",
    "plt.title('ROC curve for Logistic Regression Model')\n",
    "plt.xlabel(\"False Positive Rate\")\n",
    "plt.ylabel('True Positive Rate')\n",
    "plt.show()"
   ]
  },
  {
   "cell_type": "code",
   "execution_count": 43,
   "id": "be6dd1e0",
   "metadata": {},
   "outputs": [
    {
     "name": "stdout",
     "output_type": "stream",
     "text": [
      "Cross-validation scores:[0.82937685 0.83456973 0.83308605 0.83679525 0.81973294]\n",
      "Average cross-validation score: 0.8307121661721067\n"
     ]
    }
   ],
   "source": [
    "# Cross-Validation:\n",
    "from sklearn.model_selection import cross_val_score\n",
    "scores = cross_val_score(classifier_logreg, X_train, y_train, cv = 5, scoring='accuracy')\n",
    "print('Cross-validation scores:{}'.format(scores))\n",
    "print('Average cross-validation score: {}'.format(scores.mean()))"
   ]
  },
  {
   "cell_type": "markdown",
   "id": "c1b1c365",
   "metadata": {},
   "source": [
    "# Results and Conclusion:\n"
   ]
  },
  {
   "cell_type": "markdown",
   "id": "f6235666",
   "metadata": {},
   "source": [
    "The logistic Regression model accuracy score is 0.84. The model does a very good job of predicting.\n",
    "The model shows no sign of Underfitting or Overfitting. This means the model generalizing well for unseen data.\n",
    "The mean accuracy score of cross-validation is almost the same as the original model accuracy score. So, the accuracy of the model may not be improved using Cross-validation."
   ]
  },
  {
   "cell_type": "code",
   "execution_count": null,
   "id": "7f170ab7",
   "metadata": {},
   "outputs": [],
   "source": []
  }
 ],
 "metadata": {
  "kernelspec": {
   "display_name": "Python 3 (ipykernel)",
   "language": "python",
   "name": "python3"
  },
  "language_info": {
   "codemirror_mode": {
    "name": "ipython",
    "version": 3
   },
   "file_extension": ".py",
   "mimetype": "text/x-python",
   "name": "python",
   "nbconvert_exporter": "python",
   "pygments_lexer": "ipython3",
   "version": "3.9.7"
  }
 },
 "nbformat": 4,
 "nbformat_minor": 5
}
